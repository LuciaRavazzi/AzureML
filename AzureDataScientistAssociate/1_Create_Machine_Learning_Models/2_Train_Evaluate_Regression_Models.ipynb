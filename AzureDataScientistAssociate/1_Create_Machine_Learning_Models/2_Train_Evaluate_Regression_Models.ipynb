{
 "cells": [
  {
   "cell_type": "markdown",
   "source": [
    "### Regression\n",
    "\n",
    "Regression is a supervised statistical technique that is used to predict continuous quantities from a given sample; it is able to *estimate* the interesting quantity.\n",
    "\n",
    "It consists of two steps:\n",
    "- Training set used to fit the model.\n",
    "- Validation/Test set are used to evaluate the model.\n",
    "\n",
    "MSE is a measure of errors but the RMSE is useful for our purposes because it shares the same unit of measurement of data. Also $R^2$ can be useful."
   ],
   "metadata": {
    "collapsed": false
   }
  },
  {
   "cell_type": "code",
   "execution_count": null,
   "outputs": [],
   "source": [],
   "metadata": {
    "collapsed": false
   }
  }
 ],
 "metadata": {
  "kernelspec": {
   "display_name": "Python 3",
   "language": "python",
   "name": "python3"
  },
  "language_info": {
   "codemirror_mode": {
    "name": "ipython",
    "version": 2
   },
   "file_extension": ".py",
   "mimetype": "text/x-python",
   "name": "python",
   "nbconvert_exporter": "python",
   "pygments_lexer": "ipython2",
   "version": "2.7.6"
  }
 },
 "nbformat": 4,
 "nbformat_minor": 0
}
