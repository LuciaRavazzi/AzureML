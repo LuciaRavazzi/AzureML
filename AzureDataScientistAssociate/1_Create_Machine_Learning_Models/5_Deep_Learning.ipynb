{
 "cells": [
  {
   "cell_type": "markdown",
   "source": [
    "### Deep Learning\n",
    "\n",
    "Deep learning is an advanced way of machine learning which tries to simulated how the brain learns.\n",
    "\n",
    "Our brain is made up of neurons that can be activated whenever it receives an electrical signal overcaming a specific threshold. In turn, this neuron can activate the next one and so on.\n",
    "\n",
    "Neural networks are similar but works with artificial neural networks.\n",
    "\n",
    "Each neural network is made up of the following elements:\n",
    "- Input Layers\n",
    "- Hidden Layers\n",
    "- Output Layers\n",
    "\n",
    "A _fully connected network_ hold some hidden layers which are fully connected.\n",
    "\n",
    "The training procedure occurs through several iterations known as _epochs_. For the first epoch, random values are assigned to the parameters of the network, then these steps occur:\n",
    "- Batches of values are given to the neural network which return the output of the last layer.\n",
    "- Compute the loss, i.e. the distance between the predictions and the actual values.\n",
    "- _Backpropagate_ the result until the first layer and update the weights in order to minimize the value of the loss.\n",
    "\n",
    "Since batches are independently proprecessed by the network, a GPU could be used."
   ],
   "metadata": {
    "collapsed": false
   }
  },
  {
   "cell_type": "code",
   "execution_count": null,
   "outputs": [],
   "source": [],
   "metadata": {
    "collapsed": false
   }
  }
 ],
 "metadata": {
  "kernelspec": {
   "display_name": "Python 3",
   "language": "python",
   "name": "python3"
  },
  "language_info": {
   "codemirror_mode": {
    "name": "ipython",
    "version": 2
   },
   "file_extension": ".py",
   "mimetype": "text/x-python",
   "name": "python",
   "nbconvert_exporter": "python",
   "pygments_lexer": "ipython2",
   "version": "2.7.6"
  }
 },
 "nbformat": 4,
 "nbformat_minor": 0
}
