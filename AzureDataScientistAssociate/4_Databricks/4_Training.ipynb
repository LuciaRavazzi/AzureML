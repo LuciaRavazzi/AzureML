{
 "cells": [
  {
   "cell_type": "markdown",
   "source": [
    "### Training Machine Learning\n",
    "\n",
    "Azure Databricks supports MLLibs and Spark ML. The second one is newer and it's can deal with DataFrame with some APIs.\n",
    "\n",
    "Azure DataBricks offers some runtimes to train models in an optimized way taking into account the distributed framework. Otherwise, if you want to install the libraries on your own, it's useless to use a cluster and so a single node is enough.\n",
    "\n",
    "The three main abstractions provided by MLlib are:\n",
    "- _transformer_: a transformer takes a DataFrame as an input and returns a new DataFrame as an output. Transformers will implement a .transform() method. and feature engineering methods.\n",
    "- _estimator_: takes a DataFrame as an input and returns a model.\n",
    "- _pipeline_ assembles the first two steps."
   ],
   "metadata": {
    "collapsed": false
   }
  },
  {
   "cell_type": "code",
   "execution_count": null,
   "outputs": [],
   "source": [],
   "metadata": {
    "collapsed": false
   }
  }
 ],
 "metadata": {
  "kernelspec": {
   "display_name": "Python 3",
   "language": "python",
   "name": "python3"
  },
  "language_info": {
   "codemirror_mode": {
    "name": "ipython",
    "version": 2
   },
   "file_extension": ".py",
   "mimetype": "text/x-python",
   "name": "python",
   "nbconvert_exporter": "python",
   "pygments_lexer": "ipython2",
   "version": "2.7.6"
  }
 },
 "nbformat": 4,
 "nbformat_minor": 0
}
