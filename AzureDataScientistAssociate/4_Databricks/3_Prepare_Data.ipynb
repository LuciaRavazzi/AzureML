{
 "cells": [
  {
   "cell_type": "markdown",
   "source": [
    "### Data preparation\n",
    "\n",
    "All machine learning steps can be accomplished by Spark ML and so, also with Azure Databricks."
   ],
   "metadata": {
    "collapsed": false
   },
   "outputs": [
    {
     "ename": "SyntaxError",
     "evalue": "invalid syntax (Temp/ipykernel_4496/2892465118.py, line 3)",
     "output_type": "error",
     "traceback": [
      "\u001B[1;36m  File \u001B[1;32m\"C:\\Users\\ravazzil\\AppData\\Local\\Temp/ipykernel_4496/2892465118.py\"\u001B[1;36m, line \u001B[1;32m3\u001B[0m\n\u001B[1;33m    All machine learning steps can be accomplished by Spark ML and so, also with Azure Databricks.\u001B[0m\n\u001B[1;37m              ^\u001B[0m\n\u001B[1;31mSyntaxError\u001B[0m\u001B[1;31m:\u001B[0m invalid syntax\n"
     ]
    }
   ],
   "execution_count": 1
  }
 ],
 "metadata": {
  "kernelspec": {
   "display_name": "Python 3",
   "language": "python",
   "name": "python3"
  },
  "language_info": {
   "codemirror_mode": {
    "name": "ipython",
    "version": 2
   },
   "file_extension": ".py",
   "mimetype": "text/x-python",
   "name": "python",
   "nbconvert_exporter": "python",
   "pygments_lexer": "ipython2",
   "version": "2.7.6"
  }
 },
 "nbformat": 4,
 "nbformat_minor": 0
}
