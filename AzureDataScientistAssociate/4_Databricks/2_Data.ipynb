{
 "cells": [
  {
   "cell_type": "markdown",
   "source": [
    "### Work with data in Azure Databricks\n",
    "\n",
    "Spark uses 3 different API's: RDDs (resilient disitrbuted dataset), DataFrames and DataSets. DataFrames were introduced as an abstraction of RDDs. Spark is used to extract and manipulate data on your cluster in an optimized way. It can be used with the sql module or read.\n",
    "\n",
    "Spark cannot plot data, while Azure Databricks can do it with display."
   ],
   "metadata": {
    "collapsed": false
   }
  }
 ],
 "metadata": {
  "kernelspec": {
   "display_name": "Python 3",
   "language": "python",
   "name": "python3"
  },
  "language_info": {
   "codemirror_mode": {
    "name": "ipython",
    "version": 2
   },
   "file_extension": ".py",
   "mimetype": "text/x-python",
   "name": "python",
   "nbconvert_exporter": "python",
   "pygments_lexer": "ipython2",
   "version": "2.7.6"
  }
 },
 "nbformat": 4,
 "nbformat_minor": 0
}
