{
 "cells": [
  {
   "cell_type": "markdown",
   "source": [
    "### Manage Models with Azure Databricks\n",
    "\n",
    "The registration phase concerns two steps: registration and inference. This is managed by MLflow. One the model has been registered, it can be used for real-time inferencing. Moreover, it can be automatically versioned in order to understand if the metrics get higher.\n",
    "\n",
    "Mlflows allows models to be in certain soecified stages:\n",
    "- Production: versioned model for production.\n",
    "- Staging: versioned model for testing.\n",
    "- Archived: versioned model deprecated.\n",
    "\n",
    "Model versions start out without a stage. There are two ways of doing this: through the Azure Databricks UI as well as through code."
   ],
   "metadata": {
    "collapsed": false
   },
   "outputs": [
    {
     "ename": "SyntaxError",
     "evalue": "invalid syntax (Temp/ipykernel_20552/2574152376.py, line 3)",
     "output_type": "error",
     "traceback": [
      "\u001B[1;36m  File \u001B[1;32m\"C:\\Users\\ravazzil\\AppData\\Local\\Temp/ipykernel_20552/2574152376.py\"\u001B[1;36m, line \u001B[1;32m3\u001B[0m\n\u001B[1;33m    The registration phase concerns two steps: registration and inference. This is managed by MLflow. One the model has been registered, it can be used for real-time inferencing. Moreover, it can be automatically versioned in order to understand if the metrics get higher.\u001B[0m\n\u001B[1;37m                   ^\u001B[0m\n\u001B[1;31mSyntaxError\u001B[0m\u001B[1;31m:\u001B[0m invalid syntax\n"
     ]
    }
   ],
   "execution_count": 1
  }
 ],
 "metadata": {
  "kernelspec": {
   "display_name": "Python 3",
   "language": "python",
   "name": "python3"
  },
  "language_info": {
   "codemirror_mode": {
    "name": "ipython",
    "version": 2
   },
   "file_extension": ".py",
   "mimetype": "text/x-python",
   "name": "python",
   "nbconvert_exporter": "python",
   "pygments_lexer": "ipython2",
   "version": "2.7.6"
  }
 },
 "nbformat": 4,
 "nbformat_minor": 0
}
