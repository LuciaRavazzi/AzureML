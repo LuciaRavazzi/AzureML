{
 "cells": [
  {
   "cell_type": "markdown",
   "source": [
    "### Introduction\n",
    "\n",
    "Azure Databricks offers an integration between Microsoft Azure and the Apache Spark's Databricks implementation.\n",
    "Azure Databricks offers a fast, easy, and collaborative Spark based analytics service. It is used to accelerate big data analytics, artificial intelligence, performant data lakes, interactive data science, machine learning, and collaboration.\n",
    "\n",
    "It encompasses the following things:\n",
    "- Workspace\n",
    "- Cluster is a set of computational resources on which you run your code. Clusters can be __all-purpose cluster_ shared by multiple users to do collaborative analysis: _job cluster_ is meant to execute a specific job.\n",
    "- Runtimes are the set of core components that run on Azure Databricks clusters. It can be _Databricks runtime_, _Databricks runtime for machine learning_, _Databricks lights_\n",
    "- Data. A _database_ is a collection of tables, a _table_ is a structured data. thei can be imported through UI or mount external data sources. Then, through Spark we can access to our data.\n",
    "- DBFS: Databricks file system. It's a distributed file system mounted into a Databricks workspace and available on Databricks cluster. We can also mount data storage in DBFS."
   ],
   "metadata": {
    "collapsed": false
   }
  },
  {
   "cell_type": "code",
   "execution_count": null,
   "outputs": [],
   "source": [],
   "metadata": {
    "collapsed": false
   }
  }
 ],
 "metadata": {
  "kernelspec": {
   "display_name": "Python 3",
   "language": "python",
   "name": "python3"
  },
  "language_info": {
   "codemirror_mode": {
    "name": "ipython",
    "version": 2
   },
   "file_extension": ".py",
   "mimetype": "text/x-python",
   "name": "python",
   "nbconvert_exporter": "python",
   "pygments_lexer": "ipython2",
   "version": "2.7.6"
  }
 },
 "nbformat": 4,
 "nbformat_minor": 0
}
