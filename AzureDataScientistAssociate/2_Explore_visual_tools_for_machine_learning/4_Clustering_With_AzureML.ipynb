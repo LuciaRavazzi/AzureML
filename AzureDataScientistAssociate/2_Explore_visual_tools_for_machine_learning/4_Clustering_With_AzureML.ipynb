{
 "cells": [
  {
   "cell_type": "code",
   "execution_count": null,
   "metadata": {
    "collapsed": true
   },
   "outputs": [],
   "source": [
    "### Clustering\n",
    "\n",
    "Building a clustering model in Azure ML is really simple and it corcern the application of the following steps:\n",
    "- Import Data\n",
    "- Select data\n",
    "- Clean Missing value\n",
    "- Normalize data\n",
    "- Split Data\n",
    "- Select the clustering algorithm\n",
    "- Train Clustering Method\n",
    "- Assign Data to cluster"
   ]
  }
 ],
 "metadata": {
  "kernelspec": {
   "display_name": "Python 3",
   "language": "python",
   "name": "python3"
  },
  "language_info": {
   "codemirror_mode": {
    "name": "ipython",
    "version": 2
   },
   "file_extension": ".py",
   "mimetype": "text/x-python",
   "name": "python",
   "nbconvert_exporter": "python",
   "pygments_lexer": "ipython2",
   "version": "2.7.6"
  }
 },
 "nbformat": 4,
 "nbformat_minor": 0
}
