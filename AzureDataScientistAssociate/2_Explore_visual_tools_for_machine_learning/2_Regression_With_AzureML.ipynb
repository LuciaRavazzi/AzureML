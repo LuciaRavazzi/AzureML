{
 "cells": [
  {
   "cell_type": "markdown",
   "source": [
    "### Regression with Machine Learning Studio\n",
    "\n",
    "Azure Machine Learning _designer_ under Author > Designer, or pipeline, can author some pipeline by means of an interactive platform. this tools let you define a pipeline in order to train and evaluate your model; then, it will be modified to predict data in real-time, which means to freeze the training procedure: _inference pipeline_. Finally, this pipeline will be deployed as an endpoint.\n",
    "\n",
    "A _pipeline_ under Assets > Pipeline let you organize, manage and reuse comple machine learning workflow  across projects and users.\n",
    "\n",
    "_Components_ under Assets > Components independently encapsulates every step of a machine learning pipeline.\n",
    "\n",
    "_Dataset_ under Assets > Dataset wraps data.\n",
    "\n",
    "_Azure Machine Learning jobs_ execute a task against a specified compute target."
   ],
   "metadata": {
    "collapsed": false
   }
  },
  {
   "cell_type": "markdown",
   "source": [
    "Steps to do:\n",
    "\n",
    "1. In the current exercise, the Azure ML Design is used to create a pipeline for the preprocessing phase which will be submitted and executed as a job application.\n",
    "2. Submit the pipeline and create a job, which is an experiment consists of all the attempts.\n",
    "3. Add the training phase and the model along with the splitting step. Whenever something is append to the design pipeline, you have to submit the newest version of the pipeline.\n",
    "4. Add the evaluation step.\n",
    "5. Build the inference pipeline."
   ],
   "metadata": {
    "collapsed": false
   },
   "outputs": [
    {
     "ename": "SyntaxError",
     "evalue": "invalid syntax (3946898142.py, line 1)",
     "output_type": "error",
     "traceback": [
      "\u001B[1;36m  File \u001B[1;32m\"C:\\Users\\ravazzil\\AppData\\Local\\Temp\\ipykernel_1932\\3946898142.py\"\u001B[1;36m, line \u001B[1;32m1\u001B[0m\n\u001B[1;33m    Steps to do:\u001B[0m\n\u001B[1;37m           ^\u001B[0m\n\u001B[1;31mSyntaxError\u001B[0m\u001B[1;31m:\u001B[0m invalid syntax\n"
     ]
    }
   ],
   "execution_count": 1
  },
  {
   "cell_type": "code",
   "execution_count": null,
   "outputs": [],
   "source": [],
   "metadata": {
    "collapsed": false
   }
  }
 ],
 "metadata": {
  "kernelspec": {
   "display_name": "Python 3",
   "language": "python",
   "name": "python3"
  },
  "language_info": {
   "codemirror_mode": {
    "name": "ipython",
    "version": 2
   },
   "file_extension": ".py",
   "mimetype": "text/x-python",
   "name": "python",
   "nbconvert_exporter": "python",
   "pygments_lexer": "ipython2",
   "version": "2.7.6"
  }
 },
 "nbformat": 4,
 "nbformat_minor": 0
}
