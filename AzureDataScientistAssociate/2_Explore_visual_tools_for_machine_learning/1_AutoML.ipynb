{
 "cells": [
  {
   "cell_type": "markdown",
   "source": [
    "### Azure Machine Learning Studio\n",
    "\n",
    "Azure Machine Learning is a cloud service that you can use to train and manage machine learning models.\n",
    "\n",
    "Most importantly, Azure Machine Learning helps data scientists _increase their efficiency_ by automating many of the time-consuming tasks associated with training models; and it enables them to use _cloud-based compute resources_ that scale effectively to handle large volumes of data while incurring costs only when actually used.\n",
    "\n",
    "In Azure Machine Learning studio, you can manage the **compute** targets for your data science activities. There are four kinds of compute resource you can create:\n",
    "- Compute Instances: Development workstations that data scientists can use to work with data and models.\n",
    "- Compute Clusters: Scalable clusters of virtual machines for on-demand processing of experiment code.\n",
    "- Inference Clusters: Deployment targets for predictive services that use your trained models.\n",
    "- Attached Compute: Links to existing Azure compute resources, such as Virtual Machines or Azure Databricks clusters."
   ],
   "metadata": {
    "collapsed": false
   }
  },
  {
   "cell_type": "markdown",
   "source": [
    "#### AutoML\n",
    "\n",
    "Given a dataset, **Automated ML** tries different pre-processing steps and supervised model trying to find the best one. It doesn't exploit a business or programming knowledge. For people with a data science and programming background, it provides a way to save time and resources by automating algorithm selection and hyperparameter tuning.\n",
    "\n",
    "In Azure ML, operations that you run are called **jobs**.\n",
    "\n",
    "Machine learning pipeline steps are made up of distinct **jobs**:\n",
    "- Prepare data. In Azure Machine Learning, data for model training and other operations is usually encapsulated in an object called a **dataset**. You can create your own dataset in Azure Machine Learning studio.\n",
    "- Train Model. It deals with supervised, unsupervised models and forecasting. You can select the desired metric and configuration.\n",
    "- Evaluate Model through cross-validation procedure. Azure ML plots a _residual histogram_ and _Predicted vs. Actual data_.\n",
    "- Deploy Model by means of Azure Container Instances (ACI) or Azure Kubernetes Service (AKS).  For production scenarios, an AKS deployment is recommended, for which you must create an inference cluster compute target.\n",
    "\n",
    "Steps to do:\n",
    "- Open Machine Learning studio\n",
    "- Create a compute cluster from Compute > Compute Instances.\n",
    "- Wrap a dataset from a specific source Assets > Data.\n",
    "- Define the pipeline and the models in Author > Automated ML. Then, you start the process and the pipeline return the best model, its metrics and feature importance.\n",
    "- Deploy the model trained with all data and test the model through  Manage > Compute.\n",
    "\n",
    "These steps are done inefficiently by Data Scientist due to the exploitation of compute hardware."
   ],
   "metadata": {
    "collapsed": false
   },
   "outputs": [
    {
     "ename": "SyntaxError",
     "evalue": "invalid syntax (2988592110.py, line 3)",
     "output_type": "error",
     "traceback": [
      "\u001B[1;36m  File \u001B[1;32m\"C:\\Users\\ravazzil\\AppData\\Local\\Temp\\ipykernel_12480\\2988592110.py\"\u001B[1;36m, line \u001B[1;32m3\u001B[0m\n\u001B[1;33m    Given a dataset, **Automated ML** tries different pre-processing steps and supervised model trying to find the best one. It doesn't exploit a business or programming knowledge. For people with a data science and programming background, it provides a way to save time and resources by automating algorithm selection and hyperparameter tuning.\u001B[0m\n\u001B[1;37m          ^\u001B[0m\n\u001B[1;31mSyntaxError\u001B[0m\u001B[1;31m:\u001B[0m invalid syntax\n"
     ]
    }
   ],
   "execution_count": 1
  },
  {
   "cell_type": "code",
   "execution_count": null,
   "outputs": [],
   "source": [],
   "metadata": {
    "collapsed": false
   }
  }
 ],
 "metadata": {
  "kernelspec": {
   "display_name": "Python 3",
   "language": "python",
   "name": "python3"
  },
  "language_info": {
   "codemirror_mode": {
    "name": "ipython",
    "version": 2
   },
   "file_extension": ".py",
   "mimetype": "text/x-python",
   "name": "python",
   "nbconvert_exporter": "python",
   "pygments_lexer": "ipython2",
   "version": "2.7.6"
  }
 },
 "nbformat": 4,
 "nbformat_minor": 0
}
