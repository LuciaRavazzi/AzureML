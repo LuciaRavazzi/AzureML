{
 "cells": [
  {
   "cell_type": "markdown",
   "source": [
    "### Classification"
   ],
   "metadata": {
    "collapsed": false
   }
  },
  {
   "cell_type": "markdown",
   "source": [
    "Classification steps in Azure ML:\n",
    "- Prepare Data\n",
    "- Train model\n",
    "- Evaluate model\n",
    "- Deploy a predictive service\n",
    "\n",
    "In order to do that with the design asset, follow the next steps:\n",
    "- Load data with the Data assets and import them on Design.\n",
    "- Normalize Data.\n",
    "- Split data into train and validation set.\n",
    "- Import a Classification model. In this case a Two-Class Logistic Regression was chosen.+\n",
    "- Train a Model.\n",
    "- Import Score Module which append another column to the validation set with predictions.\n",
    "- Evaluate Model.\n",
    "\n",
    "Then, submit this pipeline in order to create a new job. Finally, create the inference pipeline starting from the previous job and deploy and test the pipeline."
   ],
   "metadata": {
    "collapsed": false
   }
  },
  {
   "cell_type": "code",
   "execution_count": null,
   "outputs": [],
   "source": [],
   "metadata": {
    "collapsed": false
   }
  }
 ],
 "metadata": {
  "kernelspec": {
   "display_name": "Python 3",
   "language": "python",
   "name": "python3"
  },
  "language_info": {
   "codemirror_mode": {
    "name": "ipython",
    "version": 2
   },
   "file_extension": ".py",
   "mimetype": "text/x-python",
   "name": "python",
   "nbconvert_exporter": "python",
   "pygments_lexer": "ipython2",
   "version": "2.7.6"
  }
 },
 "nbformat": 4,
 "nbformat_minor": 0
}
