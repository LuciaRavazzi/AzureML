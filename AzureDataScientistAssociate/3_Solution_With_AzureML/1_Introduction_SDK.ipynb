{
 "cells": [
  {
   "cell_type": "markdown",
   "source": [
    "### Introduction\n",
    "\n",
    "Azure Machine Learning is a platform for operating machine learning workloads in the cloud.\n",
    "\n",
    "Azure Machine Learning belongs to the Microsoft Azure platform and enable the users to manage:\n",
    "- Scalable on-demand compute for machine learning workloads.\n",
    "- Data storage and connectivity from a wide range of sources.\n",
    "- Machine Learning workflow orchestration to automate model training, deployment and management\n",
    "processes.\n",
    "- Model registration and management.\n",
    "- Metrics and monitoring for training experiments, datasets and published services.\n",
    "- Model deployment for real-time and batch inference."
   ],
   "metadata": {
    "collapsed": false
   }
  },
  {
   "cell_type": "markdown",
   "source": [
    "### Workspace\n",
    "\n",
    "A _workspace_ is a context for the experiments, data, compute target and other assets associated with a machine learning workloads. It defines the boundary for machine learning assets. It includes:\n",
    "- Compute targets\n",
    "- Data\n",
    "- Notebooks containing sharing code and documentation.\n",
    "- Experiments\n",
    "- Pipelines that define orchestrated multi-step processes.\n",
    "- Models\n",
    "\n",
    "A workspace can be created by:\n",
    "- The Azure portal\n",
    "- Using Azure Machine Learning Python SDK to run some code that creates a workspace."
   ],
   "metadata": {
    "collapsed": false
   }
  },
  {
   "cell_type": "code",
   "execution_count": 2,
   "outputs": [],
   "source": [
    "from azureml.core import Workspace"
   ],
   "metadata": {
    "collapsed": false
   }
  },
  {
   "cell_type": "code",
   "execution_count": null,
   "outputs": [],
   "source": [
    "# Create a new workspace.\n",
    "ws = Workspace.create(name = 'aml-workspace',\n",
    "                      subscription_id = '#####',\n",
    "                      resource_group = '####',\n",
    "                      create_resource_group = False,\n",
    "                      location = '####')\n"
   ],
   "metadata": {
    "collapsed": false
   }
  },
  {
   "cell_type": "markdown",
   "source": [
    "To create a compute instance, you should go to Azure ML studio and choose between:\n",
    "- _Compute instances_: development workstations that ds can use to work with data and models.\n",
    "- _Compute clusters_: scalable clusters of VMs.\n",
    "- _Inference clusters_: deployment targets for predictive services that use your trained model.\n",
    "- _Attached compute_: links to other Azure compute resources, such as Virtual Machines or Azure Databricks clusters."
   ],
   "metadata": {
    "collapsed": false
   }
  },
  {
   "cell_type": "code",
   "execution_count": null,
   "outputs": [],
   "source": [],
   "metadata": {
    "collapsed": false
   }
  }
 ],
 "metadata": {
  "kernelspec": {
   "display_name": "Python 3",
   "language": "python",
   "name": "python3"
  },
  "language_info": {
   "codemirror_mode": {
    "name": "ipython",
    "version": 2
   },
   "file_extension": ".py",
   "mimetype": "text/x-python",
   "name": "python",
   "nbconvert_exporter": "python",
   "pygments_lexer": "ipython2",
   "version": "2.7.6"
  }
 },
 "nbformat": 4,
 "nbformat_minor": 0
}
