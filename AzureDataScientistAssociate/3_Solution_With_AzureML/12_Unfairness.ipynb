{
 "cells": [
  {
   "cell_type": "markdown",
   "source": [
    "### Introduction\n",
    "\n",
    "Model fairness aims to establish if the model make different predictions for different groups which will highlights a bias.\n",
    "To discover if the model is biased, it's possible to test the model within two different groups: if the performance of metrics are higher for one group rather than the other, there is a bias because fot that group it established a specific label. For example, a model can learn that younger people don't repay a load which bring it to label that points in a wrong way.\n",
    "\n",
    "The causes of biased models can be the following ones:\n",
    "- Data imbalance.\n",
    "- Indirect correlation.\n",
    "-  Societal biases.\n",
    "that can be solved:\n",
    "- Balance training and validation followed by a stratified sampling.\n",
    "- Perform an extensive feature selection and engineering analysis.\n",
    "- Evaluate the disparity based on significant features.\n",
    "- Trade-off overall predictive performance for the lower disparity in predictive performance between sensitive feature groups."
   ],
   "metadata": {
    "collapsed": false
   }
  }
 ],
 "metadata": {
  "kernelspec": {
   "display_name": "Python 3",
   "language": "python",
   "name": "python3"
  },
  "language_info": {
   "codemirror_mode": {
    "name": "ipython",
    "version": 2
   },
   "file_extension": ".py",
   "mimetype": "text/x-python",
   "name": "python",
   "nbconvert_exporter": "python",
   "pygments_lexer": "ipython2",
   "version": "2.7.6"
  }
 },
 "nbformat": 4,
 "nbformat_minor": 0
}
