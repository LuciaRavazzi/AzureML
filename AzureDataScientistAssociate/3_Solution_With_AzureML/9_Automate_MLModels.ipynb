{
 "cells": [
  {
   "cell_type": "markdown",
   "source": [
    "### Automate machine learning model selection with Azure Machine Learning\n",
    "\n",
    "### Introduction\n",
    "\n",
    "Automated Machine Learning  enables you to try multiple models and preprocessing transformations withput the manual trial and error that could be waste of time.\n",
    "You can explot Azure UI to perform this task but also SDK.\n",
    "\n",
    "By default, AzureML tries every possible model but you can select them. It is able to deal with some preprocessing transformations such as scaling, normalization, imputation of missing values, categorical encoding, feature engineering etc.\n",
    "\n",
    "Some data must be given as input: if it is the training set, AzureML will apply a cross-vaidation, otherwise will use the provided validation set.\n",
    "\n",
    "Moreover, a metric is going to be optimized and so, it must be set as the _primary_key_."
   ],
   "metadata": {
    "collapsed": false
   }
  },
  {
   "cell_type": "code",
   "execution_count": 3,
   "outputs": [
    {
     "name": "stdout",
     "output_type": "stream",
     "text": [
      "Collecting azureml-train-automl\n",
      "  Downloading azureml_train_automl-1.48.0-py3-none-any.whl (2.2 kB)\n",
      "Collecting azureml-train-automl-runtime~=1.48.0\n",
      "  Downloading azureml_train_automl_runtime-1.48.0-py3-none-any.whl (332 kB)\n",
      "     -------------------------------------- 332.3/332.3 kB 1.2 MB/s eta 0:00:00\n",
      "Requirement already satisfied: azureml-dataset-runtime[fuse,pandas]~=1.48.0 in c:\\users\\ravazzil\\anaconda3\\envs\\azure_env\\lib\\site-packages (from azureml-train-automl) (1.48.0)\n",
      "Requirement already satisfied: azureml-automl-core~=1.48.0 in c:\\users\\ravazzil\\anaconda3\\envs\\azure_env\\lib\\site-packages (from azureml-train-automl) (1.48.0)\n",
      "Requirement already satisfied: azureml-train-automl-client~=1.48.0 in c:\\users\\ravazzil\\anaconda3\\envs\\azure_env\\lib\\site-packages (from azureml-train-automl) (1.48.0)\n",
      "Collecting azureml-automl-runtime~=1.48.0\n",
      "  Downloading azureml_automl_runtime-1.48.0.post1-py3-none-any.whl (1.9 MB)\n",
      "     ---------------------------------------- 1.9/1.9 MB 311.6 kB/s eta 0:00:00\n",
      "Requirement already satisfied: azureml-telemetry~=1.48.0 in c:\\users\\ravazzil\\anaconda3\\envs\\azure_env\\lib\\site-packages (from azureml-automl-core~=1.48.0->azureml-train-automl) (1.48.0)\n",
      "Collecting botocore<=1.23.19\n",
      "  Downloading botocore-1.23.19-py3-none-any.whl (8.4 MB)\n",
      "     ---------------------------------------- 8.4/8.4 MB 1.0 MB/s eta 0:00:00\n",
      "Collecting gensim<3.9.0\n",
      "  Downloading gensim-3.8.3-cp37-cp37m-win_amd64.whl (24.2 MB)\n",
      "     -----------                             7.3/24.2 MB 329.5 kB/s eta 0:00:52\n"
     ]
    },
    {
     "name": "stderr",
     "output_type": "stream",
     "text": [
      "  WARNING: Retrying (Retry(total=4, connect=None, read=None, redirect=None, status=None)) after connection broken by 'ReadTimeoutError(\"HTTPSConnectionPool(host='files.pythonhosted.org', port=443): Read timed out. (read timeout=15)\")': /packages/ba/88/f8bb5f7857e3d50b26e781b75a10f533286ec250c01104947a1c2f0f4aea/azureml_train_automl_runtime-1.48.0-py3-none-any.whl\n",
      "ERROR: Exception:\n",
      "Traceback (most recent call last):\n",
      "  File \"C:\\Users\\ravazzil\\Anaconda3\\envs\\azure_env\\lib\\site-packages\\pip\\_vendor\\urllib3\\response.py\", line 435, in _error_catcher\n",
      "    yield\n",
      "  File \"C:\\Users\\ravazzil\\Anaconda3\\envs\\azure_env\\lib\\site-packages\\pip\\_vendor\\urllib3\\response.py\", line 516, in read\n",
      "    data = self._fp.read(amt) if not fp_closed else b\"\"\n",
      "  File \"C:\\Users\\ravazzil\\Anaconda3\\envs\\azure_env\\lib\\site-packages\\pip\\_vendor\\cachecontrol\\filewrapper.py\", line 90, in read\n",
      "    data = self.__fp.read(amt)\n",
      "  File \"C:\\Users\\ravazzil\\Anaconda3\\envs\\azure_env\\lib\\http\\client.py\", line 465, in read\n",
      "    n = self.readinto(b)\n",
      "  File \"C:\\Users\\ravazzil\\Anaconda3\\envs\\azure_env\\lib\\http\\client.py\", line 509, in readinto\n",
      "    n = self.fp.readinto(b)\n",
      "  File \"C:\\Users\\ravazzil\\Anaconda3\\envs\\azure_env\\lib\\socket.py\", line 589, in readinto\n",
      "    return self._sock.recv_into(b)\n",
      "  File \"C:\\Users\\ravazzil\\Anaconda3\\envs\\azure_env\\lib\\ssl.py\", line 1071, in recv_into\n",
      "    return self.read(nbytes, buffer)\n",
      "  File \"C:\\Users\\ravazzil\\Anaconda3\\envs\\azure_env\\lib\\ssl.py\", line 929, in read\n",
      "    return self._sslobj.read(len, buffer)\n",
      "socket.timeout: The read operation timed out\n",
      "\n",
      "During handling of the above exception, another exception occurred:\n",
      "\n",
      "Traceback (most recent call last):\n",
      "  File \"C:\\Users\\ravazzil\\Anaconda3\\envs\\azure_env\\lib\\site-packages\\pip\\_internal\\cli\\base_command.py\", line 167, in exc_logging_wrapper\n",
      "    status = run_func(*args)\n",
      "  File \"C:\\Users\\ravazzil\\Anaconda3\\envs\\azure_env\\lib\\site-packages\\pip\\_internal\\cli\\req_command.py\", line 247, in wrapper\n",
      "    return func(self, options, args)\n",
      "  File \"C:\\Users\\ravazzil\\Anaconda3\\envs\\azure_env\\lib\\site-packages\\pip\\_internal\\commands\\install.py\", line 370, in run\n",
      "    reqs, check_supported_wheels=not options.target_dir\n",
      "  File \"C:\\Users\\ravazzil\\Anaconda3\\envs\\azure_env\\lib\\site-packages\\pip\\_internal\\resolution\\resolvelib\\resolver.py\", line 93, in resolve\n",
      "    collected.requirements, max_rounds=try_to_avoid_resolution_too_deep\n",
      "  File \"C:\\Users\\ravazzil\\Anaconda3\\envs\\azure_env\\lib\\site-packages\\pip\\_vendor\\resolvelib\\resolvers.py\", line 481, in resolve\n",
      "    state = resolution.resolve(requirements, max_rounds=max_rounds)\n",
      "  File \"C:\\Users\\ravazzil\\Anaconda3\\envs\\azure_env\\lib\\site-packages\\pip\\_vendor\\resolvelib\\resolvers.py\", line 373, in resolve\n",
      "    failure_causes = self._attempt_to_pin_criterion(name)\n",
      "  File \"C:\\Users\\ravazzil\\Anaconda3\\envs\\azure_env\\lib\\site-packages\\pip\\_vendor\\resolvelib\\resolvers.py\", line 213, in _attempt_to_pin_criterion\n",
      "    criteria = self._get_updated_criteria(candidate)\n",
      "  File \"C:\\Users\\ravazzil\\Anaconda3\\envs\\azure_env\\lib\\site-packages\\pip\\_vendor\\resolvelib\\resolvers.py\", line 204, in _get_updated_criteria\n",
      "    self._add_to_criteria(criteria, requirement, parent=candidate)\n",
      "  File \"C:\\Users\\ravazzil\\Anaconda3\\envs\\azure_env\\lib\\site-packages\\pip\\_vendor\\resolvelib\\resolvers.py\", line 172, in _add_to_criteria\n",
      "    if not criterion.candidates:\n",
      "  File \"C:\\Users\\ravazzil\\Anaconda3\\envs\\azure_env\\lib\\site-packages\\pip\\_vendor\\resolvelib\\structs.py\", line 151, in __bool__\n",
      "    return bool(self._sequence)\n",
      "  File \"C:\\Users\\ravazzil\\Anaconda3\\envs\\azure_env\\lib\\site-packages\\pip\\_internal\\resolution\\resolvelib\\found_candidates.py\", line 155, in __bool__\n",
      "    return any(self)\n",
      "  File \"C:\\Users\\ravazzil\\Anaconda3\\envs\\azure_env\\lib\\site-packages\\pip\\_internal\\resolution\\resolvelib\\found_candidates.py\", line 143, in <genexpr>\n",
      "    return (c for c in iterator if id(c) not in self._incompatible_ids)\n",
      "  File \"C:\\Users\\ravazzil\\Anaconda3\\envs\\azure_env\\lib\\site-packages\\pip\\_internal\\resolution\\resolvelib\\found_candidates.py\", line 47, in _iter_built\n",
      "    candidate = func()\n",
      "  File \"C:\\Users\\ravazzil\\Anaconda3\\envs\\azure_env\\lib\\site-packages\\pip\\_internal\\resolution\\resolvelib\\factory.py\", line 211, in _make_candidate_from_link\n",
      "    version=version,\n",
      "  File \"C:\\Users\\ravazzil\\Anaconda3\\envs\\azure_env\\lib\\site-packages\\pip\\_internal\\resolution\\resolvelib\\candidates.py\", line 303, in __init__\n",
      "    version=version,\n",
      "  File \"C:\\Users\\ravazzil\\Anaconda3\\envs\\azure_env\\lib\\site-packages\\pip\\_internal\\resolution\\resolvelib\\candidates.py\", line 162, in __init__\n",
      "    self.dist = self._prepare()\n",
      "  File \"C:\\Users\\ravazzil\\Anaconda3\\envs\\azure_env\\lib\\site-packages\\pip\\_internal\\resolution\\resolvelib\\candidates.py\", line 231, in _prepare\n",
      "    dist = self._prepare_distribution()\n",
      "  File \"C:\\Users\\ravazzil\\Anaconda3\\envs\\azure_env\\lib\\site-packages\\pip\\_internal\\resolution\\resolvelib\\candidates.py\", line 308, in _prepare_distribution\n",
      "    return preparer.prepare_linked_requirement(self._ireq, parallel_builds=True)\n",
      "  File \"C:\\Users\\ravazzil\\Anaconda3\\envs\\azure_env\\lib\\site-packages\\pip\\_internal\\operations\\prepare.py\", line 438, in prepare_linked_requirement\n",
      "    return self._prepare_linked_requirement(req, parallel_builds)\n",
      "  File \"C:\\Users\\ravazzil\\Anaconda3\\envs\\azure_env\\lib\\site-packages\\pip\\_internal\\operations\\prepare.py\", line 489, in _prepare_linked_requirement\n",
      "    hashes,\n",
      "  File \"C:\\Users\\ravazzil\\Anaconda3\\envs\\azure_env\\lib\\site-packages\\pip\\_internal\\operations\\prepare.py\", line 169, in unpack_url\n",
      "    hashes=hashes,\n",
      "  File \"C:\\Users\\ravazzil\\Anaconda3\\envs\\azure_env\\lib\\site-packages\\pip\\_internal\\operations\\prepare.py\", line 106, in get_http_url\n",
      "    from_path, content_type = download(link, temp_dir.path)\n",
      "  File \"C:\\Users\\ravazzil\\Anaconda3\\envs\\azure_env\\lib\\site-packages\\pip\\_internal\\network\\download.py\", line 147, in __call__\n",
      "    for chunk in chunks:\n",
      "  File \"C:\\Users\\ravazzil\\Anaconda3\\envs\\azure_env\\lib\\site-packages\\pip\\_internal\\cli\\progress_bars.py\", line 53, in _rich_progress_bar\n",
      "    for chunk in iterable:\n",
      "  File \"C:\\Users\\ravazzil\\Anaconda3\\envs\\azure_env\\lib\\site-packages\\pip\\_internal\\network\\utils.py\", line 87, in response_chunks\n",
      "    decode_content=False,\n",
      "  File \"C:\\Users\\ravazzil\\Anaconda3\\envs\\azure_env\\lib\\site-packages\\pip\\_vendor\\urllib3\\response.py\", line 573, in stream\n",
      "    data = self.read(amt=amt, decode_content=decode_content)\n",
      "  File \"C:\\Users\\ravazzil\\Anaconda3\\envs\\azure_env\\lib\\site-packages\\pip\\_vendor\\urllib3\\response.py\", line 538, in read\n",
      "    raise IncompleteRead(self._fp_bytes_read, self.length_remaining)\n",
      "  File \"C:\\Users\\ravazzil\\Anaconda3\\envs\\azure_env\\lib\\contextlib.py\", line 130, in __exit__\n",
      "    self.gen.throw(type, value, traceback)\n",
      "  File \"C:\\Users\\ravazzil\\Anaconda3\\envs\\azure_env\\lib\\site-packages\\pip\\_vendor\\urllib3\\response.py\", line 440, in _error_catcher\n",
      "    raise ReadTimeoutError(self._pool, None, \"Read timed out.\")\n",
      "pip._vendor.urllib3.exceptions.ReadTimeoutError: HTTPSConnectionPool(host='files.pythonhosted.org', port=443): Read timed out.\n"
     ]
    }
   ],
   "source": [
    "# !pip install azureml-train-automl"
   ],
   "metadata": {
    "collapsed": false
   }
  },
  {
   "cell_type": "code",
   "execution_count": 1,
   "outputs": [],
   "source": [
    "from azureml.core import Workspace\n",
    "from azureml.core import ComputeTarget\n",
    "from azureml.core import Environment\n",
    "\n",
    "ws = Workspace.from_config()\n",
    "compute = ComputeTarget(workspace = ws, name = 'aml-cluster')\n",
    "env = Environment.get(workspace = ws, name = 'experiment_env')\n",
    "data = ws.datasets.get('diabetes dataset')"
   ],
   "metadata": {
    "collapsed": false
   }
  },
  {
   "cell_type": "code",
   "execution_count": 2,
   "outputs": [
    {
     "name": "stdout",
     "output_type": "stream",
     "text": [
      "norm_macro_recall\n",
      "accuracy\n",
      "precision_score_weighted\n",
      "average_precision_score_weighted\n",
      "AUC_weighted\n"
     ]
    }
   ],
   "source": [
    "# List classification metrics.\n",
    "\n",
    "import azureml.train.automl.utilities as automl_utils\n",
    "\n",
    "for metric in automl_utils.get_primary_metrics('classification'):\n",
    "    print(metric)"
   ],
   "metadata": {
    "collapsed": false
   }
  },
  {
   "cell_type": "code",
   "execution_count": 3,
   "outputs": [
    {
     "name": "stdout",
     "output_type": "stream",
     "text": [
      "Submitting remote run.\n"
     ]
    },
    {
     "data": {
      "text/plain": "<IPython.core.display.HTML object>",
      "text/html": "<table style=\"width:100%\"><tr><th>Experiment</th><th>Id</th><th>Type</th><th>Status</th><th>Details Page</th><th>Docs Page</th></tr><tr><td>AutoML</td><td>AutoML_66753947-19d6-4022-bd25-44e408f6dd86</td><td>automl</td><td>NotStarted</td><td><a href=\"https://ml.azure.com/runs/AutoML_66753947-19d6-4022-bd25-44e408f6dd86?wsid=/subscriptions/d12c1b85-0a70-4232-b483-12d1ffcfc148/resourcegroups/ResourceGroupRavazzi/workspaces/ravazzil-workspace&amp;tid=b00367e2-193a-4f48-94de-7245d45c0947\" target=\"_blank\" rel=\"noopener\">Link to Azure Machine Learning studio</a></td><td><a href=\"https://docs.microsoft.com/en-us/python/api/overview/azure/ml/intro?view=azure-ml-py\" target=\"_blank\" rel=\"noopener\">Link to Documentation</a></td></tr></table>"
     },
     "metadata": {},
     "output_type": "display_data"
    },
    {
     "data": {
      "text/plain": "<IPython.core.display.HTML object>",
      "text/html": "<table style=\"width:100%\"><tr><th>Experiment</th><th>Id</th><th>Type</th><th>Status</th><th>Details Page</th><th>Docs Page</th></tr><tr><td>AutoML</td><td>AutoML_66753947-19d6-4022-bd25-44e408f6dd86</td><td>automl</td><td>NotStarted</td><td><a href=\"https://ml.azure.com/runs/AutoML_66753947-19d6-4022-bd25-44e408f6dd86?wsid=/subscriptions/d12c1b85-0a70-4232-b483-12d1ffcfc148/resourcegroups/ResourceGroupRavazzi/workspaces/ravazzil-workspace&amp;tid=b00367e2-193a-4f48-94de-7245d45c0947\" target=\"_blank\" rel=\"noopener\">Link to Azure Machine Learning studio</a></td><td><a href=\"https://docs.microsoft.com/en-us/python/api/overview/azure/ml/intro?view=azure-ml-py\" target=\"_blank\" rel=\"noopener\">Link to Documentation</a></td></tr></table>"
     },
     "metadata": {},
     "output_type": "display_data"
    },
    {
     "name": "stdout",
     "output_type": "stream",
     "text": [
      "\n",
      "Current status: FeaturesGeneration. Generating features for the dataset.\n",
      "Current status: DatasetCrossValidationSplit. Generating individually featurized CV splits.\n",
      "Current status: ModelSelection. Beginning model selection.\n",
      "\n",
      "********************************************************************************************\n",
      "DATA GUARDRAILS: \n",
      "\n",
      "TYPE:         Cross validation\n",
      "STATUS:       DONE\n",
      "DESCRIPTION:  In order to accurately evaluate the model(s) trained by AutoML, we leverage a dataset that the model is not trained on. Hence, if the user doesn't provide an explicit validation dataset, a part of the training dataset is used to achieve this. For smaller datasets (fewer than 20,000 samples), cross-validation is leveraged, else a single hold-out set is split from the training data to serve as the validation dataset. Hence, for your input data we leverage cross-validation with 10 folds, if the number of training samples are fewer than 1000, and 3 folds in all other cases.\n",
      "              Learn more about cross validation: https://aka.ms/AutomatedMLCrossValidation\n",
      "DETAILS:      \n",
      "+------------------------------+\n",
      "|Number of folds               |\n",
      "+==============================+\n",
      "|3                             |\n",
      "+------------------------------+\n",
      "\n",
      "********************************************************************************************\n",
      "\n",
      "TYPE:         Class balancing detection\n",
      "STATUS:       PASSED\n",
      "DESCRIPTION:  Your inputs were analyzed, and all classes are balanced in your training data.\n",
      "              Learn more about imbalanced data: https://aka.ms/AutomatedMLImbalancedData\n",
      "\n",
      "********************************************************************************************\n",
      "\n",
      "TYPE:         Missing feature values imputation\n",
      "STATUS:       PASSED\n",
      "DESCRIPTION:  No feature missing values were detected in the training data.\n",
      "              Learn more about missing value imputation: https://aka.ms/AutomatedMLFeaturization\n",
      "\n",
      "********************************************************************************************\n",
      "\n",
      "TYPE:         High cardinality feature detection\n",
      "STATUS:       PASSED\n",
      "DESCRIPTION:  Your inputs were analyzed, and no high cardinality features were detected.\n",
      "              Learn more about high cardinality feature handling: https://aka.ms/AutomatedMLFeaturization\n",
      "\n",
      "********************************************************************************************\n",
      "\n",
      "********************************************************************************************\n",
      "ITER: The iteration being evaluated.\n",
      "PIPELINE: A summary description of the pipeline being evaluated.\n",
      "DURATION: Time taken for the current iteration.\n",
      "METRIC: The result of computing score on the fitted pipeline.\n",
      "BEST: The best observed score thus far.\n",
      "********************************************************************************************\n",
      "\n",
      " ITER   PIPELINE                                       DURATION            METRIC      BEST\n",
      "    0   MaxAbsScaler LightGBM                          0:00:14             0.9901    0.9901\n",
      "    1   MaxAbsScaler XGBoostClassifier                 0:00:17             0.9898    0.9901\n",
      "    3    StackEnsemble                                 0:00:36             0.9905    0.9905\n",
      "    2    VotingEnsemble                                0:00:34             0.9905    0.9905\n"
     ]
    },
    {
     "data": {
      "text/plain": "{'runId': 'AutoML_66753947-19d6-4022-bd25-44e408f6dd86',\n 'target': 'aml-cluster',\n 'status': 'Completed',\n 'startTimeUtc': '2023-01-06T15:07:32.317356Z',\n 'endTimeUtc': '2023-01-06T15:15:23.201604Z',\n 'services': {},\n 'properties': {'num_iterations': '4',\n  'training_type': 'TrainFull',\n  'acquisition_function': 'EI',\n  'primary_metric': 'AUC_weighted',\n  'train_split': '0',\n  'acquisition_parameter': '0',\n  'num_cross_validation': None,\n  'target': 'aml-cluster',\n  'AMLSettingsJsonString': '{\"path\":null,\"name\":\"Automated ML experiment\",\"subscription_id\":\"d12c1b85-0a70-4232-b483-12d1ffcfc148\",\"resource_group\":\"ResourceGroupRavazzi\",\"workspace_name\":\"ravazzil-workspace\",\"region\":\"francecentral\",\"compute_target\":\"aml-cluster\",\"spark_service\":null,\"azure_service\":\"remote\",\"many_models\":false,\"pipeline_fetch_max_batch_size\":1,\"enable_batch_run\":true,\"enable_parallel_run\":false,\"num_procs\":null,\"enable_run_restructure\":false,\"start_auxiliary_runs_before_parent_complete\":false,\"enable_code_generation\":true,\"iterations\":4,\"primary_metric\":\"AUC_weighted\",\"task_type\":\"classification\",\"positive_label\":null,\"data_script\":null,\"test_size\":0.0,\"test_include_predictions_only\":false,\"validation_size\":0.0,\"n_cross_validations\":null,\"y_min\":null,\"y_max\":null,\"num_classes\":null,\"featurization\":\"auto\",\"_ignore_package_version_incompatibilities\":false,\"is_timeseries\":false,\"max_cores_per_iteration\":1,\"max_concurrent_iterations\":2,\"iteration_timeout_minutes\":null,\"mem_in_mb\":null,\"enforce_time_on_windows\":true,\"experiment_timeout_minutes\":8640,\"experiment_exit_score\":null,\"partition_column_names\":null,\"whitelist_models\":null,\"blacklist_algos\":[\"TensorFlowLinearClassifier\",\"TensorFlowDNN\"],\"supported_models\":[\"SVM\",\"DecisionTree\",\"LogisticRegression\",\"BernoulliNaiveBayes\",\"TensorFlowDNN\",\"LightGBM\",\"TabnetClassifier\",\"LinearSVM\",\"KNN\",\"MultinomialNaiveBayes\",\"AveragedPerceptronClassifier\",\"ExtremeRandomTrees\",\"SGD\",\"GradientBoosting\",\"RandomForest\",\"XGBoostClassifier\",\"TensorFlowLinearClassifier\"],\"private_models\":[],\"auto_blacklist\":true,\"blacklist_samples_reached\":false,\"exclude_nan_labels\":true,\"verbosity\":20,\"_debug_log\":\"azureml_automl.log\",\"show_warnings\":false,\"model_explainability\":true,\"service_url\":null,\"sdk_url\":null,\"sdk_packages\":null,\"enable_onnx_compatible_models\":false,\"enable_split_onnx_featurizer_estimator_models\":false,\"vm_type\":\"STANDARD_DS11_V2\",\"telemetry_verbosity\":20,\"send_telemetry\":true,\"enable_dnn\":false,\"scenario\":\"AutoML\",\"environment_label\":null,\"save_mlflow\":false,\"enable_categorical_indicators\":false,\"force_text_dnn\":false,\"enable_feature_sweeping\":true,\"enable_early_stopping\":true,\"early_stopping_n_iters\":10,\"arguments\":null,\"dataset_id\":\"c36b3658-d319-41aa-81d1-8cae5a45f92f\",\"hyperdrive_config\":null,\"validation_dataset_id\":null,\"run_source\":null,\"metrics\":null,\"enable_metric_confidence\":false,\"enable_ensembling\":true,\"enable_stack_ensembling\":true,\"ensemble_iterations\":4,\"enable_tf\":false,\"enable_subsampling\":false,\"subsample_seed\":null,\"enable_nimbusml\":false,\"enable_streaming\":false,\"force_streaming\":false,\"track_child_runs\":true,\"n_best_runs\":1,\"allowed_private_models\":[],\"label_column_name\":\"Diabetic\",\"weight_column_name\":null,\"cv_split_column_names\":null,\"enable_local_managed\":false,\"_local_managed_run_id\":null,\"cost_mode\":1,\"lag_length\":0,\"metric_operation\":\"maximize\",\"preprocess\":true}',\n  'DataPrepJsonString': '{\\\\\"training_data\\\\\": {\\\\\"datasetId\\\\\": \\\\\"c36b3658-d319-41aa-81d1-8cae5a45f92f\\\\\"}, \\\\\"datasets\\\\\": 0}',\n  'EnableSubsampling': 'False',\n  'runTemplate': 'AutoML',\n  'azureml.runsource': 'automl',\n  'display_task_type': 'classification',\n  'dependencies_versions': '{\"azureml-dataprep-native\": \"38.0.0\", \"azureml-dataprep\": \"4.8.3\", \"azureml-dataprep-rslex\": \"2.15.1\", \"azureml-automl-core\": \"1.48.0\", \"azureml-core\": \"1.48.0\", \"azureml-dataset-runtime\": \"1.48.0\", \"azureml-mlflow\": \"1.48.0\", \"azureml-pipeline\": \"1.48.0\", \"azureml-pipeline-core\": \"1.48.0\", \"azureml-pipeline-steps\": \"1.48.0\", \"azureml-sdk\": \"1.48.0\", \"azureml-telemetry\": \"1.48.0\", \"azureml-train-automl-client\": \"1.48.0\", \"azureml-train-core\": \"1.48.0\", \"azureml-train-restclients-hyperdrive\": \"1.48.0\", \"azureml-widgets\": \"1.48.0\"}',\n  '_aml_system_scenario_identification': 'Remote.Parent',\n  'ClientType': 'SDK',\n  'environment_cpu_name': 'AzureML-AutoML',\n  'environment_cpu_label': 'prod',\n  'environment_gpu_name': 'AzureML-AutoML-GPU',\n  'environment_gpu_label': 'prod',\n  'root_attribution': 'automl',\n  'attribution': 'AutoML',\n  'Orchestrator': 'AutoML',\n  'CancelUri': 'https://francecentral.api.azureml.ms/jasmine/v1.0/subscriptions/d12c1b85-0a70-4232-b483-12d1ffcfc148/resourceGroups/ResourceGroupRavazzi/providers/Microsoft.MachineLearningServices/workspaces/ravazzil-workspace/experimentids/7c1cc0ef-a9ef-4fe7-9cd3-07cdbbd4e186/cancel/AutoML_66753947-19d6-4022-bd25-44e408f6dd86',\n  'azureml.git.repository_uri': 'https://github.com/LuciaRavazzi/AzureML.git',\n  'mlflow.source.git.repoURL': 'https://github.com/LuciaRavazzi/AzureML.git',\n  'azureml.git.branch': 'main',\n  'mlflow.source.git.branch': 'main',\n  'azureml.git.commit': '27f3de8972a42a2e04225346ea8e542ad2536498',\n  'mlflow.source.git.commit': '27f3de8972a42a2e04225346ea8e542ad2536498',\n  'azureml.git.dirty': 'True',\n  'ClientSdkVersion': '1.48.0',\n  'snapshotId': '00000000-0000-0000-0000-000000000000',\n  'SetupRunId': 'AutoML_66753947-19d6-4022-bd25-44e408f6dd86_setup',\n  'SetupRunContainerId': 'dcid.AutoML_66753947-19d6-4022-bd25-44e408f6dd86_setup',\n  'FeaturizationRunJsonPath': 'featurizer_container.json',\n  'FeaturizationRunId': 'AutoML_66753947-19d6-4022-bd25-44e408f6dd86_featurize',\n  'ProblemInfoJsonString': '{\"dataset_num_categorical\": 0, \"is_sparse\": true, \"subsampling\": false, \"has_extra_col\": true, \"dataset_classes\": 2, \"dataset_features\": 23, \"dataset_samples\": 10000, \"single_frequency_class_detected\": false}',\n  'ModelExplainRunId': 'AutoML_66753947-19d6-4022-bd25-44e408f6dd86_ModelExplain'},\n 'inputDatasets': [{'dataset': {'id': 'c36b3658-d319-41aa-81d1-8cae5a45f92f'}, 'consumptionDetails': {'type': 'RunInput', 'inputName': 'training_data', 'mechanism': 'Direct'}}],\n 'outputDatasets': [],\n 'logFiles': {},\n 'submittedBy': 'Lucia Ravazzi'}"
     },
     "execution_count": 3,
     "metadata": {},
     "output_type": "execute_result"
    }
   ],
   "source": [
    "from azureml.train.automl import AutoMLConfig\n",
    "from azureml.core import Experiment\n",
    "\n",
    "automl_config = AutoMLConfig(name = 'Automated ML experiment',\n",
    "                             task = 'classification',\n",
    "                             compute_target=compute,\n",
    "                             training_data=data,\n",
    "                             label_column_name='Diabetic',\n",
    "                             iterations=4,\n",
    "                             primary_metric='AUC_weighted',\n",
    "                             max_concurrent_iterations=2,\n",
    "                             featurization='auto')\n",
    "\n",
    "exp = Experiment(workspace=ws, name='AutoML')\n",
    "run = exp.submit(automl_config)\n",
    "\n",
    "run.wait_for_completion(show_output=True)"
   ],
   "metadata": {
    "collapsed": false
   }
  },
  {
   "cell_type": "code",
   "execution_count": 8,
   "outputs": [],
   "source": [
    "# View child job.\n",
    "for run in run.get_children():\n",
    "    print('Run ID', run.id)\n",
    "    for metric in run.get_metrics():\n",
    "        print('\\t', run.get_metrics('AUC_weighted'))"
   ],
   "metadata": {
    "collapsed": false
   }
  },
  {
   "cell_type": "code",
   "execution_count": 7,
   "outputs": [
    {
     "ename": "AttributeError",
     "evalue": "'Run' object has no attribute 'get_output'",
     "output_type": "error",
     "traceback": [
      "\u001B[1;31m---------------------------------------------------------------------------\u001B[0m",
      "\u001B[1;31mAttributeError\u001B[0m                            Traceback (most recent call last)",
      "\u001B[1;32m~\\AppData\\Local\\Temp\\ipykernel_10896\\649262415.py\u001B[0m in \u001B[0;36m<module>\u001B[1;34m\u001B[0m\n\u001B[1;32m----> 1\u001B[1;33m \u001B[0mbest_run\u001B[0m\u001B[1;33m,\u001B[0m \u001B[0mfitted_model\u001B[0m \u001B[1;33m=\u001B[0m \u001B[0mrun\u001B[0m\u001B[1;33m.\u001B[0m\u001B[0mget_output\u001B[0m\u001B[1;33m(\u001B[0m\u001B[1;33m)\u001B[0m\u001B[1;33m\u001B[0m\u001B[1;33m\u001B[0m\u001B[0m\n\u001B[0m\u001B[0;32m      2\u001B[0m \u001B[0mprint\u001B[0m\u001B[1;33m(\u001B[0m\u001B[0mbest_run\u001B[0m\u001B[1;33m)\u001B[0m\u001B[1;33m\u001B[0m\u001B[1;33m\u001B[0m\u001B[0m\n\u001B[0;32m      3\u001B[0m \u001B[0mprint\u001B[0m\u001B[1;33m(\u001B[0m\u001B[1;34m'\\nBest Model Definition:'\u001B[0m\u001B[1;33m)\u001B[0m\u001B[1;33m\u001B[0m\u001B[1;33m\u001B[0m\u001B[0m\n\u001B[0;32m      4\u001B[0m \u001B[0mprint\u001B[0m\u001B[1;33m(\u001B[0m\u001B[0mfitted_model\u001B[0m\u001B[1;33m)\u001B[0m\u001B[1;33m\u001B[0m\u001B[1;33m\u001B[0m\u001B[0m\n\u001B[0;32m      5\u001B[0m \u001B[0mprint\u001B[0m\u001B[1;33m(\u001B[0m\u001B[1;34m'\\nBest Run Transformations:'\u001B[0m\u001B[1;33m)\u001B[0m\u001B[1;33m\u001B[0m\u001B[1;33m\u001B[0m\u001B[0m\n",
      "\u001B[1;31mAttributeError\u001B[0m: 'Run' object has no attribute 'get_output'"
     ]
    }
   ],
   "source": [
    "best_run, fitted_model = run.get_output()\n",
    "print(best_run)\n",
    "print('\\nBest Model Definition:')\n",
    "print(fitted_model)\n",
    "print('\\nBest Run Transformations:')\n",
    "for step in fitted_model.named_steps:\n",
    "    print(step)\n",
    "print('\\nBest Run Metrics:')\n",
    "best_run_metrics = best_run.get_metrics()\n",
    "for metric_name in best_run_metrics:\n",
    "    metric = best_run_metrics[metric_name]\n",
    "    print(metric_name, metric)"
   ],
   "metadata": {
    "collapsed": false
   }
  }
 ],
 "metadata": {
  "kernelspec": {
   "display_name": "Python 3",
   "language": "python",
   "name": "python3"
  },
  "language_info": {
   "codemirror_mode": {
    "name": "ipython",
    "version": 2
   },
   "file_extension": ".py",
   "mimetype": "text/x-python",
   "name": "python",
   "nbconvert_exporter": "python",
   "pygments_lexer": "ipython2",
   "version": "2.7.6"
  }
 },
 "nbformat": 4,
 "nbformat_minor": 0
}
