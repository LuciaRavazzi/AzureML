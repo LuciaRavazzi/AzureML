{
 "cells": [
  {
   "cell_type": "markdown",
   "source": [
    "## Explore Differential Privacy\n",
    "\n",
    "### Introduction\n",
    "\n",
    "Sometimes some aggregated analysis can reveal some personal data which isn't so good. With large volumes of data, the aggregations provide a level of abstraction; but with smaller amounts of data, or with repeated analyses, even aggregated results may reveal details about individual observations. In order to avoid this, analysis are modified a little bit adding some noise.\n",
    "**Differential privacy** is a technique that can help protect an individual's data against this kind of exposure adding some noise to data in order to compute aggregated analysis which follow its original distribution but isn't deterministic.\n",
    "\n",
    "One way that an individual can protect their personal data is to not partecipate in a study. however, it can happen that the results can affect you anyway and sometimes it can bring some advantages.\n",
    "To take into account the likelihood of being discovered within the aggregated data, the parameter $\\epsilon$ quantifies that risk: the higher $\\epsilon$ is, the higher is the probability of being discovered in aggregated data but the accuracy of the stufy will be higher due to the small amount of noise introduced within aggregated data.\n"
   ],
   "metadata": {
    "collapsed": false
   }
  },
  {
   "cell_type": "code",
   "execution_count": 1,
   "outputs": [
    {
     "name": "stdout",
     "output_type": "stream",
     "text": [
      "Collecting opendp-smartnoise==0.1.4.2\n",
      "  Downloading opendp_smartnoise-0.1.4.2-py3-none-any.whl (193 kB)\n",
      "     -------------------------------------- 193.8/193.8 kB 1.7 MB/s eta 0:00:00\n",
      "Collecting pandasql\n",
      "  Downloading pandasql-0.7.3.tar.gz (26 kB)\n",
      "  Preparing metadata (setup.py): started\n",
      "  Preparing metadata (setup.py): finished with status 'done'\n",
      "Collecting antlr4-python3-runtime==4.8\n",
      "  Downloading antlr4-python3-runtime-4.8.tar.gz (112 kB)\n",
      "     -------------------------------------- 112.4/112.4 kB 6.8 MB/s eta 0:00:00\n",
      "  Preparing metadata (setup.py): started\n",
      "  Preparing metadata (setup.py): finished with status 'done'\n",
      "Collecting statsmodels\n",
      "  Downloading statsmodels-0.13.5-cp37-cp37m-win_amd64.whl (9.1 MB)\n",
      "     ---------------------------------------- 9.1/9.1 MB 4.3 MB/s eta 0:00:00\n",
      "Requirement already satisfied: scipy in c:\\users\\ravazzil\\anaconda3\\envs\\azure_env\\lib\\site-packages (from opendp-smartnoise==0.1.4.2) (1.7.3)\n",
      "Requirement already satisfied: msrest in c:\\users\\ravazzil\\anaconda3\\envs\\azure_env\\lib\\site-packages (from opendp-smartnoise==0.1.4.2) (0.7.1)\n",
      "Requirement already satisfied: pyyaml in c:\\users\\ravazzil\\anaconda3\\envs\\azure_env\\lib\\site-packages (from opendp-smartnoise==0.1.4.2) (6.0)\n",
      "Collecting opendp-smartnoise-core\n",
      "  Downloading opendp_smartnoise_core-0.2.3-py3-none-any.whl (12.7 MB)\n",
      "     ---------------------------------------- 12.7/12.7 MB 4.8 MB/s eta 0:00:00\n",
      "Requirement already satisfied: pandas in c:\\users\\ravazzil\\anaconda3\\envs\\azure_env\\lib\\site-packages (from opendp-smartnoise==0.1.4.2) (1.3.5)\n",
      "Requirement already satisfied: numpy in c:\\users\\ravazzil\\anaconda3\\envs\\azure_env\\lib\\site-packages (from opendp-smartnoise==0.1.4.2) (1.21.6)\n",
      "Requirement already satisfied: requests~=2.16 in c:\\users\\ravazzil\\anaconda3\\envs\\azure_env\\lib\\site-packages (from msrest->opendp-smartnoise==0.1.4.2) (2.28.1)\n",
      "Requirement already satisfied: certifi>=2017.4.17 in c:\\users\\ravazzil\\anaconda3\\envs\\azure_env\\lib\\site-packages (from msrest->opendp-smartnoise==0.1.4.2) (2022.9.24)\n",
      "Requirement already satisfied: azure-core>=1.24.0 in c:\\users\\ravazzil\\anaconda3\\envs\\azure_env\\lib\\site-packages (from msrest->opendp-smartnoise==0.1.4.2) (1.26.1)\n",
      "Requirement already satisfied: requests-oauthlib>=0.5.0 in c:\\users\\ravazzil\\anaconda3\\envs\\azure_env\\lib\\site-packages (from msrest->opendp-smartnoise==0.1.4.2) (1.3.1)\n",
      "Requirement already satisfied: isodate>=0.6.0 in c:\\users\\ravazzil\\anaconda3\\envs\\azure_env\\lib\\site-packages (from msrest->opendp-smartnoise==0.1.4.2) (0.6.1)\n",
      "Requirement already satisfied: protobuf in c:\\users\\ravazzil\\anaconda3\\envs\\azure_env\\lib\\site-packages (from opendp-smartnoise-core->opendp-smartnoise==0.1.4.2) (4.21.12)\n",
      "Requirement already satisfied: pytz>=2017.3 in c:\\users\\ravazzil\\anaconda3\\envs\\azure_env\\lib\\site-packages (from pandas->opendp-smartnoise==0.1.4.2) (2022.6)\n",
      "Requirement already satisfied: python-dateutil>=2.7.3 in c:\\users\\ravazzil\\anaconda3\\envs\\azure_env\\lib\\site-packages (from pandas->opendp-smartnoise==0.1.4.2) (2.8.2)\n",
      "Collecting sqlalchemy\n",
      "  Downloading SQLAlchemy-1.4.46-cp37-cp37m-win_amd64.whl (1.6 MB)\n",
      "     ---------------------------------------- 1.6/1.6 MB 4.4 MB/s eta 0:00:00\n",
      "Requirement already satisfied: packaging>=21.3 in c:\\users\\ravazzil\\anaconda3\\envs\\azure_env\\lib\\site-packages (from statsmodels->opendp-smartnoise==0.1.4.2) (21.3)\n",
      "Collecting patsy>=0.5.2\n",
      "  Downloading patsy-0.5.3-py2.py3-none-any.whl (233 kB)\n",
      "     -------------------------------------- 233.8/233.8 kB 3.5 MB/s eta 0:00:00\n",
      "Requirement already satisfied: six>=1.11.0 in c:\\users\\ravazzil\\anaconda3\\envs\\azure_env\\lib\\site-packages (from azure-core>=1.24.0->msrest->opendp-smartnoise==0.1.4.2) (1.16.0)\n",
      "Requirement already satisfied: typing-extensions>=4.0.1 in c:\\users\\ravazzil\\anaconda3\\envs\\azure_env\\lib\\site-packages (from azure-core>=1.24.0->msrest->opendp-smartnoise==0.1.4.2) (4.4.0)\n",
      "Requirement already satisfied: pyparsing!=3.0.5,>=2.0.2 in c:\\users\\ravazzil\\anaconda3\\envs\\azure_env\\lib\\site-packages (from packaging>=21.3->statsmodels->opendp-smartnoise==0.1.4.2) (3.0.9)\n",
      "Requirement already satisfied: idna<4,>=2.5 in c:\\users\\ravazzil\\anaconda3\\envs\\azure_env\\lib\\site-packages (from requests~=2.16->msrest->opendp-smartnoise==0.1.4.2) (3.4)\n",
      "Requirement already satisfied: urllib3<1.27,>=1.21.1 in c:\\users\\ravazzil\\anaconda3\\envs\\azure_env\\lib\\site-packages (from requests~=2.16->msrest->opendp-smartnoise==0.1.4.2) (1.26.13)\n",
      "Requirement already satisfied: charset-normalizer<3,>=2 in c:\\users\\ravazzil\\anaconda3\\envs\\azure_env\\lib\\site-packages (from requests~=2.16->msrest->opendp-smartnoise==0.1.4.2) (2.1.1)\n",
      "Requirement already satisfied: oauthlib>=3.0.0 in c:\\users\\ravazzil\\anaconda3\\envs\\azure_env\\lib\\site-packages (from requests-oauthlib>=0.5.0->msrest->opendp-smartnoise==0.1.4.2) (3.2.2)\n",
      "Collecting greenlet!=0.4.17\n",
      "  Downloading greenlet-2.0.1-cp37-cp37m-win_amd64.whl (191 kB)\n",
      "     -------------------------------------- 191.1/191.1 kB 3.8 MB/s eta 0:00:00\n",
      "Requirement already satisfied: importlib-metadata in c:\\users\\ravazzil\\anaconda3\\envs\\azure_env\\lib\\site-packages (from sqlalchemy->pandasql->opendp-smartnoise==0.1.4.2) (4.13.0)\n",
      "Requirement already satisfied: zipp>=0.5 in c:\\users\\ravazzil\\anaconda3\\envs\\azure_env\\lib\\site-packages (from importlib-metadata->sqlalchemy->pandasql->opendp-smartnoise==0.1.4.2) (3.11.0)\n",
      "Building wheels for collected packages: antlr4-python3-runtime, pandasql\n",
      "  Building wheel for antlr4-python3-runtime (setup.py): started\n",
      "  Building wheel for antlr4-python3-runtime (setup.py): finished with status 'done'\n",
      "  Created wheel for antlr4-python3-runtime: filename=antlr4_python3_runtime-4.8-py3-none-any.whl size=141210 sha256=143b18a5f0dec97e8a1b9e49a2aaed64ac32d1f98e70d2ac4232895a257e37d2\n",
      "  Stored in directory: c:\\users\\ravazzil\\appdata\\local\\pip\\cache\\wheels\\ca\\33\\b7\\336836125fc9bb4ceaa4376d8abca10ca8bc84ddc824baea6c\n",
      "  Building wheel for pandasql (setup.py): started\n",
      "  Building wheel for pandasql (setup.py): finished with status 'done'\n",
      "  Created wheel for pandasql: filename=pandasql-0.7.3-py3-none-any.whl size=26768 sha256=39445d8fa9ae00f333370603c4f97b3460915def9454fe016261dc6813bd2431\n",
      "  Stored in directory: c:\\users\\ravazzil\\appdata\\local\\pip\\cache\\wheels\\5c\\4b\\ec\\41f4e116c8053c3654e2c2a47c62b4fca34cc67ef7b55deb7f\n",
      "Successfully built antlr4-python3-runtime pandasql\n",
      "Installing collected packages: antlr4-python3-runtime, patsy, opendp-smartnoise-core, greenlet, sqlalchemy, statsmodels, pandasql, opendp-smartnoise\n",
      "Successfully installed antlr4-python3-runtime-4.8 greenlet-2.0.1 opendp-smartnoise-0.1.4.2 opendp-smartnoise-core-0.2.3 pandasql-0.7.3 patsy-0.5.3 sqlalchemy-1.4.46 statsmodels-0.13.5\n"
     ]
    }
   ],
   "source": [
    "#!pip install opendp-smartnoise==0.1.4.2"
   ],
   "metadata": {
    "collapsed": false
   }
  },
  {
   "cell_type": "code",
   "execution_count": 2,
   "outputs": [
    {
     "data": {
      "text/plain": "          PatientID  Pregnancies  PlasmaGlucose  DiastolicBloodPressure  \\\ncount  1.000000e+04  10000.00000   10000.000000            10000.000000   \nmean   1.502122e+06      3.25580     107.850200               71.207500   \nstd    2.892868e+05      3.40572      31.920909               16.801478   \nmin    1.000038e+06      0.00000      44.000000               24.000000   \n25%    1.251672e+06      0.00000      84.000000               58.000000   \n50%    1.504394e+06      2.00000     105.000000               72.000000   \n75%    1.754608e+06      6.00000     129.000000               85.000000   \nmax    1.999997e+06     14.00000     192.000000              117.000000   \n\n       TricepsThickness  SerumInsulin           BMI  DiabetesPedigree  \\\ncount       10000.00000  10000.000000  10000.000000      10000.000000   \nmean           28.81760    139.243600     31.567022          0.400944   \nstd            14.50648    133.777919      9.804366          0.381463   \nmin             7.00000     14.000000     18.200807          0.078044   \n25%            15.00000     39.000000     21.247427          0.137065   \n50%            31.00000     85.000000     31.922421          0.199698   \n75%            41.00000    197.000000     39.328921          0.621158   \nmax            92.00000    796.000000     56.034628          2.301594   \n\n                Age      Diabetic  \ncount  10000.000000  10000.000000  \nmean      30.134100      0.334400  \nstd       12.106047      0.471804  \nmin       21.000000      0.000000  \n25%       22.000000      0.000000  \n50%       24.000000      0.000000  \n75%       35.000000      1.000000  \nmax       77.000000      1.000000  ",
      "text/html": "<div>\n<style scoped>\n    .dataframe tbody tr th:only-of-type {\n        vertical-align: middle;\n    }\n\n    .dataframe tbody tr th {\n        vertical-align: top;\n    }\n\n    .dataframe thead th {\n        text-align: right;\n    }\n</style>\n<table border=\"1\" class=\"dataframe\">\n  <thead>\n    <tr style=\"text-align: right;\">\n      <th></th>\n      <th>PatientID</th>\n      <th>Pregnancies</th>\n      <th>PlasmaGlucose</th>\n      <th>DiastolicBloodPressure</th>\n      <th>TricepsThickness</th>\n      <th>SerumInsulin</th>\n      <th>BMI</th>\n      <th>DiabetesPedigree</th>\n      <th>Age</th>\n      <th>Diabetic</th>\n    </tr>\n  </thead>\n  <tbody>\n    <tr>\n      <th>count</th>\n      <td>1.000000e+04</td>\n      <td>10000.00000</td>\n      <td>10000.000000</td>\n      <td>10000.000000</td>\n      <td>10000.00000</td>\n      <td>10000.000000</td>\n      <td>10000.000000</td>\n      <td>10000.000000</td>\n      <td>10000.000000</td>\n      <td>10000.000000</td>\n    </tr>\n    <tr>\n      <th>mean</th>\n      <td>1.502122e+06</td>\n      <td>3.25580</td>\n      <td>107.850200</td>\n      <td>71.207500</td>\n      <td>28.81760</td>\n      <td>139.243600</td>\n      <td>31.567022</td>\n      <td>0.400944</td>\n      <td>30.134100</td>\n      <td>0.334400</td>\n    </tr>\n    <tr>\n      <th>std</th>\n      <td>2.892868e+05</td>\n      <td>3.40572</td>\n      <td>31.920909</td>\n      <td>16.801478</td>\n      <td>14.50648</td>\n      <td>133.777919</td>\n      <td>9.804366</td>\n      <td>0.381463</td>\n      <td>12.106047</td>\n      <td>0.471804</td>\n    </tr>\n    <tr>\n      <th>min</th>\n      <td>1.000038e+06</td>\n      <td>0.00000</td>\n      <td>44.000000</td>\n      <td>24.000000</td>\n      <td>7.00000</td>\n      <td>14.000000</td>\n      <td>18.200807</td>\n      <td>0.078044</td>\n      <td>21.000000</td>\n      <td>0.000000</td>\n    </tr>\n    <tr>\n      <th>25%</th>\n      <td>1.251672e+06</td>\n      <td>0.00000</td>\n      <td>84.000000</td>\n      <td>58.000000</td>\n      <td>15.00000</td>\n      <td>39.000000</td>\n      <td>21.247427</td>\n      <td>0.137065</td>\n      <td>22.000000</td>\n      <td>0.000000</td>\n    </tr>\n    <tr>\n      <th>50%</th>\n      <td>1.504394e+06</td>\n      <td>2.00000</td>\n      <td>105.000000</td>\n      <td>72.000000</td>\n      <td>31.00000</td>\n      <td>85.000000</td>\n      <td>31.922421</td>\n      <td>0.199698</td>\n      <td>24.000000</td>\n      <td>0.000000</td>\n    </tr>\n    <tr>\n      <th>75%</th>\n      <td>1.754608e+06</td>\n      <td>6.00000</td>\n      <td>129.000000</td>\n      <td>85.000000</td>\n      <td>41.00000</td>\n      <td>197.000000</td>\n      <td>39.328921</td>\n      <td>0.621158</td>\n      <td>35.000000</td>\n      <td>1.000000</td>\n    </tr>\n    <tr>\n      <th>max</th>\n      <td>1.999997e+06</td>\n      <td>14.00000</td>\n      <td>192.000000</td>\n      <td>117.000000</td>\n      <td>92.00000</td>\n      <td>796.000000</td>\n      <td>56.034628</td>\n      <td>2.301594</td>\n      <td>77.000000</td>\n      <td>1.000000</td>\n    </tr>\n  </tbody>\n</table>\n</div>"
     },
     "execution_count": 2,
     "metadata": {},
     "output_type": "execute_result"
    }
   ],
   "source": [
    "import pandas as pd\n",
    "\n",
    "data = pd.read_csv('Script/data/diabetes.csv')\n",
    "data.describe()"
   ],
   "metadata": {
    "collapsed": false
   }
  },
  {
   "cell_type": "markdown",
   "source": [
    "**SmartNoise** uses some parameters to define the differential privacy procedure:\n",
    "- Upper and Lower bound to retain the distribution of raw data.\n",
    "- Sample size, namely the number of points generated by the SmartNoise.\n",
    "- $\\epsilon$ managed the amount of noise added to data.\n",
    "\n",
    "The implemented methodology to change data is quite complex."
   ],
   "metadata": {
    "collapsed": false
   }
  },
  {
   "cell_type": "markdown",
   "source": [
    "### SmartNoise for mean"
   ],
   "metadata": {
    "collapsed": false
   }
  },
  {
   "cell_type": "code",
   "execution_count": 8,
   "outputs": [
    {
     "ename": "TypeError",
     "evalue": "Descriptors cannot not be created directly.\nIf this call came from a _pb2.py file, your generated code is out of date and must be regenerated with protoc >= 3.19.0.\nIf you cannot immediately regenerate your protos, some other possible workarounds are:\n 1. Downgrade the protobuf package to 3.20.x or lower.\n 2. Set PROTOCOL_BUFFERS_PYTHON_IMPLEMENTATION=python (but this will use pure-Python parsing and will be much slower).\n\nMore information: https://developers.google.com/protocol-buffers/docs/news/2022-05-06#python-updates",
     "output_type": "error",
     "traceback": [
      "\u001B[1;31m---------------------------------------------------------------------------\u001B[0m",
      "\u001B[1;31mTypeError\u001B[0m                                 Traceback (most recent call last)",
      "\u001B[1;32m~\\AppData\\Local\\Temp\\ipykernel_5252\\4093961319.py\u001B[0m in \u001B[0;36m<module>\u001B[1;34m\u001B[0m\n\u001B[1;32m----> 1\u001B[1;33m \u001B[1;32mimport\u001B[0m \u001B[0mopendp\u001B[0m\u001B[1;33m.\u001B[0m\u001B[0msmartnoise\u001B[0m\u001B[1;33m.\u001B[0m\u001B[0mcore\u001B[0m \u001B[1;32mas\u001B[0m \u001B[0msn\u001B[0m\u001B[1;33m\u001B[0m\u001B[1;33m\u001B[0m\u001B[0m\n\u001B[0m\u001B[0;32m      2\u001B[0m \u001B[1;33m\u001B[0m\u001B[0m\n\u001B[0;32m      3\u001B[0m \u001B[0mcols\u001B[0m \u001B[1;33m=\u001B[0m \u001B[0mlist\u001B[0m\u001B[1;33m(\u001B[0m\u001B[0mdata\u001B[0m\u001B[1;33m.\u001B[0m\u001B[0mcolumns\u001B[0m\u001B[1;33m)\u001B[0m\u001B[1;33m\u001B[0m\u001B[1;33m\u001B[0m\u001B[0m\n\u001B[0;32m      4\u001B[0m \u001B[0mage_range\u001B[0m \u001B[1;33m=\u001B[0m \u001B[1;33m[\u001B[0m\u001B[1;36m0.0\u001B[0m\u001B[1;33m,\u001B[0m \u001B[1;36m120.0\u001B[0m\u001B[1;33m]\u001B[0m\u001B[1;33m\u001B[0m\u001B[1;33m\u001B[0m\u001B[0m\n\u001B[0;32m      5\u001B[0m \u001B[0msamples\u001B[0m \u001B[1;33m=\u001B[0m \u001B[0mdata\u001B[0m\u001B[1;33m.\u001B[0m\u001B[0mshape\u001B[0m\u001B[1;33m[\u001B[0m\u001B[1;36m0\u001B[0m\u001B[1;33m]\u001B[0m\u001B[1;33m\u001B[0m\u001B[1;33m\u001B[0m\u001B[0m\n",
      "\u001B[1;32m~\\Anaconda3\\envs\\azure_env\\lib\\site-packages\\opendp\\smartnoise\\core\\__init__.py\u001B[0m in \u001B[0;36m<module>\u001B[1;34m\u001B[0m\n\u001B[1;32m----> 1\u001B[1;33m \u001B[1;32mfrom\u001B[0m \u001B[1;33m.\u001B[0m\u001B[0mbase\u001B[0m \u001B[1;32mimport\u001B[0m \u001B[1;33m*\u001B[0m\u001B[1;33m\u001B[0m\u001B[1;33m\u001B[0m\u001B[0m\n\u001B[0m\u001B[0;32m      2\u001B[0m \u001B[1;33m\u001B[0m\u001B[0m\n\u001B[0;32m      3\u001B[0m \u001B[1;31m# The full namespace is used because the file location comes from an external script\u001B[0m\u001B[1;33m\u001B[0m\u001B[1;33m\u001B[0m\u001B[1;33m\u001B[0m\u001B[0m\n\u001B[0;32m      4\u001B[0m \u001B[1;31m# components.py is generated from scripts/code_generation.py\u001B[0m\u001B[1;33m\u001B[0m\u001B[1;33m\u001B[0m\u001B[1;33m\u001B[0m\u001B[0m\n\u001B[0;32m      5\u001B[0m \u001B[1;31m# in opendifferentialprivacy/smartnoise-core-python\u001B[0m\u001B[1;33m\u001B[0m\u001B[1;33m\u001B[0m\u001B[1;33m\u001B[0m\u001B[0m\n",
      "\u001B[1;32m~\\Anaconda3\\envs\\azure_env\\lib\\site-packages\\opendp\\smartnoise\\core\\base.py\u001B[0m in \u001B[0;36m<module>\u001B[1;34m\u001B[0m\n\u001B[0;32m      2\u001B[0m \u001B[1;32mimport\u001B[0m \u001B[0mwarnings\u001B[0m\u001B[1;33m\u001B[0m\u001B[1;33m\u001B[0m\u001B[0m\n\u001B[0;32m      3\u001B[0m \u001B[1;33m\u001B[0m\u001B[0m\n\u001B[1;32m----> 4\u001B[1;33m \u001B[1;32mfrom\u001B[0m \u001B[1;33m.\u001B[0m\u001B[0mapi\u001B[0m \u001B[1;32mimport\u001B[0m \u001B[0mLibraryWrapper\u001B[0m\u001B[1;33m,\u001B[0m \u001B[0mformat_error\u001B[0m\u001B[1;33m\u001B[0m\u001B[1;33m\u001B[0m\u001B[0m\n\u001B[0m\u001B[0;32m      5\u001B[0m \u001B[1;32mfrom\u001B[0m \u001B[1;33m.\u001B[0m\u001B[0mvalue\u001B[0m \u001B[1;32mimport\u001B[0m \u001B[1;33m*\u001B[0m\u001B[1;33m\u001B[0m\u001B[1;33m\u001B[0m\u001B[0m\n\u001B[0;32m      6\u001B[0m \u001B[1;33m\u001B[0m\u001B[0m\n",
      "\u001B[1;32m~\\Anaconda3\\envs\\azure_env\\lib\\site-packages\\opendp\\smartnoise\\core\\api.py\u001B[0m in \u001B[0;36m<module>\u001B[1;34m\u001B[0m\n\u001B[0;32m      6\u001B[0m \u001B[1;32mimport\u001B[0m \u001B[0mplatform\u001B[0m\u001B[1;33m\u001B[0m\u001B[1;33m\u001B[0m\u001B[0m\n\u001B[0;32m      7\u001B[0m \u001B[1;33m\u001B[0m\u001B[0m\n\u001B[1;32m----> 8\u001B[1;33m \u001B[1;32mfrom\u001B[0m \u001B[1;33m.\u001B[0m \u001B[1;32mimport\u001B[0m \u001B[0mapi_pb2\u001B[0m\u001B[1;33m\u001B[0m\u001B[1;33m\u001B[0m\u001B[0m\n\u001B[0m\u001B[0;32m      9\u001B[0m \u001B[1;33m\u001B[0m\u001B[0m\n\u001B[0;32m     10\u001B[0m \u001B[1;33m\u001B[0m\u001B[0m\n",
      "\u001B[1;32m~\\Anaconda3\\envs\\azure_env\\lib\\site-packages\\opendp\\smartnoise\\core\\api_pb2.py\u001B[0m in \u001B[0;36m<module>\u001B[1;34m\u001B[0m\n\u001B[0;32m     14\u001B[0m \u001B[1;33m\u001B[0m\u001B[0m\n\u001B[0;32m     15\u001B[0m \u001B[1;33m\u001B[0m\u001B[0m\n\u001B[1;32m---> 16\u001B[1;33m \u001B[1;32mfrom\u001B[0m \u001B[1;33m.\u001B[0m \u001B[1;32mimport\u001B[0m \u001B[0mbase_pb2\u001B[0m \u001B[1;32mas\u001B[0m \u001B[0mbase__pb2\u001B[0m\u001B[1;33m\u001B[0m\u001B[1;33m\u001B[0m\u001B[0m\n\u001B[0m\u001B[0;32m     17\u001B[0m \u001B[1;32mfrom\u001B[0m \u001B[1;33m.\u001B[0m \u001B[1;32mimport\u001B[0m \u001B[0mcomponents_pb2\u001B[0m \u001B[1;32mas\u001B[0m \u001B[0mcomponents__pb2\u001B[0m\u001B[1;33m\u001B[0m\u001B[1;33m\u001B[0m\u001B[0m\n\u001B[0;32m     18\u001B[0m \u001B[1;32mfrom\u001B[0m \u001B[1;33m.\u001B[0m \u001B[1;32mimport\u001B[0m \u001B[0mvalue_pb2\u001B[0m \u001B[1;32mas\u001B[0m \u001B[0mvalue__pb2\u001B[0m\u001B[1;33m\u001B[0m\u001B[1;33m\u001B[0m\u001B[0m\n",
      "\u001B[1;32m~\\Anaconda3\\envs\\azure_env\\lib\\site-packages\\opendp\\smartnoise\\core\\base_pb2.py\u001B[0m in \u001B[0;36m<module>\u001B[1;34m\u001B[0m\n\u001B[0;32m     15\u001B[0m \u001B[1;33m\u001B[0m\u001B[0m\n\u001B[0;32m     16\u001B[0m \u001B[1;33m\u001B[0m\u001B[0m\n\u001B[1;32m---> 17\u001B[1;33m \u001B[1;32mfrom\u001B[0m \u001B[1;33m.\u001B[0m \u001B[1;32mimport\u001B[0m \u001B[0mvalue_pb2\u001B[0m \u001B[1;32mas\u001B[0m \u001B[0mvalue__pb2\u001B[0m\u001B[1;33m\u001B[0m\u001B[1;33m\u001B[0m\u001B[0m\n\u001B[0m\u001B[0;32m     18\u001B[0m \u001B[1;32mfrom\u001B[0m \u001B[1;33m.\u001B[0m \u001B[1;32mimport\u001B[0m \u001B[0mcomponents_pb2\u001B[0m \u001B[1;32mas\u001B[0m \u001B[0mcomponents__pb2\u001B[0m\u001B[1;33m\u001B[0m\u001B[1;33m\u001B[0m\u001B[0m\n\u001B[0;32m     19\u001B[0m \u001B[1;33m\u001B[0m\u001B[0m\n",
      "\u001B[1;32m~\\Anaconda3\\envs\\azure_env\\lib\\site-packages\\opendp\\smartnoise\\core\\value_pb2.py\u001B[0m in \u001B[0;36m<module>\u001B[1;34m\u001B[0m\n\u001B[0;32m     34\u001B[0m       \u001B[0mname\u001B[0m\u001B[1;33m=\u001B[0m\u001B[1;34m'UNKNOWN'\u001B[0m\u001B[1;33m,\u001B[0m \u001B[0mindex\u001B[0m\u001B[1;33m=\u001B[0m\u001B[1;36m0\u001B[0m\u001B[1;33m,\u001B[0m \u001B[0mnumber\u001B[0m\u001B[1;33m=\u001B[0m\u001B[1;36m0\u001B[0m\u001B[1;33m,\u001B[0m\u001B[1;33m\u001B[0m\u001B[1;33m\u001B[0m\u001B[0m\n\u001B[0;32m     35\u001B[0m       \u001B[0mserialized_options\u001B[0m\u001B[1;33m=\u001B[0m\u001B[1;32mNone\u001B[0m\u001B[1;33m,\u001B[0m\u001B[1;33m\u001B[0m\u001B[1;33m\u001B[0m\u001B[0m\n\u001B[1;32m---> 36\u001B[1;33m       type=None),\n\u001B[0m\u001B[0;32m     37\u001B[0m     _descriptor.EnumValueDescriptor(\n\u001B[0;32m     38\u001B[0m       \u001B[0mname\u001B[0m\u001B[1;33m=\u001B[0m\u001B[1;34m'BOOL'\u001B[0m\u001B[1;33m,\u001B[0m \u001B[0mindex\u001B[0m\u001B[1;33m=\u001B[0m\u001B[1;36m1\u001B[0m\u001B[1;33m,\u001B[0m \u001B[0mnumber\u001B[0m\u001B[1;33m=\u001B[0m\u001B[1;36m1\u001B[0m\u001B[1;33m,\u001B[0m\u001B[1;33m\u001B[0m\u001B[1;33m\u001B[0m\u001B[0m\n",
      "\u001B[1;32m~\\Anaconda3\\envs\\azure_env\\lib\\site-packages\\google\\protobuf\\descriptor.py\u001B[0m in \u001B[0;36m__new__\u001B[1;34m(cls, name, index, number, type, options, serialized_options, create_key)\u001B[0m\n\u001B[0;32m    753\u001B[0m                 \u001B[0mtype\u001B[0m\u001B[1;33m=\u001B[0m\u001B[1;32mNone\u001B[0m\u001B[1;33m,\u001B[0m  \u001B[1;31m# pylint: disable=redefined-builtin\u001B[0m\u001B[1;33m\u001B[0m\u001B[1;33m\u001B[0m\u001B[0m\n\u001B[0;32m    754\u001B[0m                 options=None, serialized_options=None, create_key=None):\n\u001B[1;32m--> 755\u001B[1;33m       \u001B[0m_message\u001B[0m\u001B[1;33m.\u001B[0m\u001B[0mMessage\u001B[0m\u001B[1;33m.\u001B[0m\u001B[0m_CheckCalledFromGeneratedFile\u001B[0m\u001B[1;33m(\u001B[0m\u001B[1;33m)\u001B[0m\u001B[1;33m\u001B[0m\u001B[1;33m\u001B[0m\u001B[0m\n\u001B[0m\u001B[0;32m    756\u001B[0m       \u001B[1;31m# There is no way we can build a complete EnumValueDescriptor with the\u001B[0m\u001B[1;33m\u001B[0m\u001B[1;33m\u001B[0m\u001B[1;33m\u001B[0m\u001B[0m\n\u001B[0;32m    757\u001B[0m       \u001B[1;31m# given parameters (the name of the Enum is not known, for example).\u001B[0m\u001B[1;33m\u001B[0m\u001B[1;33m\u001B[0m\u001B[1;33m\u001B[0m\u001B[0m\n",
      "\u001B[1;31mTypeError\u001B[0m: Descriptors cannot not be created directly.\nIf this call came from a _pb2.py file, your generated code is out of date and must be regenerated with protoc >= 3.19.0.\nIf you cannot immediately regenerate your protos, some other possible workarounds are:\n 1. Downgrade the protobuf package to 3.20.x or lower.\n 2. Set PROTOCOL_BUFFERS_PYTHON_IMPLEMENTATION=python (but this will use pure-Python parsing and will be much slower).\n\nMore information: https://developers.google.com/protocol-buffers/docs/news/2022-05-06#python-updates"
     ]
    }
   ],
   "source": [
    "import opendp.smartnoise.core as sn\n",
    "\n",
    "cols = list(data.columns)\n",
    "age_range = [0.0, 120.0]\n",
    "samples = data.shape[0]\n",
    "\n",
    "with sn.Analysis() as analysis:\n",
    "    data = sn.Dataset(path = 'Script/data/diabetes.csv', column_names=cols)\n",
    "    age_dt = sn.to_float(data['Age'])\n",
    "    # get mean of age\n",
    "    age_mean = sn.dp_mean(data = age_dt,\n",
    "                          privacy_usage={'epsilon': .50},\n",
    "                          data_lower = age_range[0],\n",
    "                          data_upper = age_range[1],\n",
    "                          data_rows = samples)\n",
    "\n",
    "analysis.release()"
   ],
   "metadata": {
    "collapsed": false
   }
  },
  {
   "cell_type": "code",
   "execution_count": null,
   "outputs": [],
   "source": [
    "# Print differentially private estimate of mean age.\n",
    "print(\"Private mean age:\",age_mean.value)\n",
    "\n",
    "# print actual mean age\n",
    "print(\"Actual mean age:\", data.Age.mean())"
   ],
   "metadata": {
    "collapsed": false
   }
  },
  {
   "cell_type": "markdown",
   "source": [
    "### SmartNoise for distributions"
   ],
   "metadata": {
    "collapsed": false
   }
  },
  {
   "cell_type": "code",
   "execution_count": 12,
   "outputs": [
    {
     "data": {
      "text/plain": "<Figure size 640x480 with 1 Axes>",
      "image/png": "[encoded data removed]"
     },
     "metadata": {},
     "output_type": "display_data"
    }
   ],
   "source": [
    "# Show data distribution histogram.\n",
    "\n",
    "import matplotlib.pyplot as plt\n",
    "import numpy as np\n",
    "%matplotlib inline\n",
    "\n",
    "ages = list(range(0, 130, 10))\n",
    "age = data.Age\n",
    "\n",
    "# Plot a histogram with 10-year bins\n",
    "n_age, bins, patches = plt.hist(age, bins=ages, color='blue', alpha=0.7, rwidth=0.85)\n",
    "plt.grid(axis='y', alpha=0.75)\n",
    "plt.xlabel('Age')\n",
    "plt.ylabel('Frequency')\n",
    "plt.title('True Age Distribution')\n",
    "plt.show();"
   ],
   "metadata": {
    "collapsed": false
   }
  },
  {
   "cell_type": "code",
   "execution_count": null,
   "outputs": [],
   "source": [
    "import matplotlib.pyplot as plt\n",
    "\n",
    "with sn.Analysis() as analysis:\n",
    "    data = sn.Dataset(path = 'Script/data/diabetes.csv', column_names = cols)\n",
    "\n",
    "    age_histogram = sn.dp_histogram(\n",
    "            sn.to_int(data['Age'], lower=0, upper=120),\n",
    "            edges = ages,\n",
    "            upper = 10000,\n",
    "            null_value = -1,\n",
    "            privacy_usage = {'epsilon': 0.5}\n",
    "        )\n",
    "\n",
    "analysis.release()\n",
    "\n",
    "plt.ylim([0,7000])\n",
    "width=4\n",
    "agecat_left = [x + width for x in ages]\n",
    "agecat_right = [x + 2*width for x in ages]\n",
    "plt.bar(list(range(0,120,10)), n_age, width=width, color='blue', alpha=0.7, label='True')\n",
    "plt.bar(agecat_left, age_histogram.value, width=width, color='orange', alpha=0.7, label='Private')\n",
    "plt.legend()\n",
    "plt.title('Histogram of Age')\n",
    "plt.xlabel('Age')\n",
    "plt.ylabel('Frequency')\n",
    "plt.show()\n",
    "\n",
    "print(age_histogram.value)"
   ],
   "metadata": {
    "collapsed": false
   }
  },
  {
   "cell_type": "markdown",
   "source": [
    "### SmartNoise for correlation"
   ],
   "metadata": {
    "collapsed": false
   }
  },
  {
   "cell_type": "code",
   "execution_count": null,
   "outputs": [],
   "source": [
    "with sn.Analysis() as analysis:\n",
    "    sn_data = sn.Dataset(path = data_path, column_names = cols)\n",
    "\n",
    "    age_bp_cov_scalar = sn.dp_covariance(\n",
    "                left = sn.to_float(sn_data['Age']),\n",
    "                right = sn.to_float(sn_data['DiastolicBloodPressure']),\n",
    "                privacy_usage = {'epsilon': 1.0},\n",
    "                left_lower = 0.,\n",
    "                left_upper = 120.,\n",
    "                left_rows = 10000,\n",
    "                right_lower = 0.,\n",
    "                right_upper = 150.,\n",
    "                right_rows = 10000)\n",
    "analysis.release()\n",
    "print('Differentially private covariance: {0}'.format(age_bp_cov_scalar.value[0][0]))\n",
    "print('Actual covariance', diabetes.Age.cov(diabetes.DiastolicBloodPressure))"
   ],
   "metadata": {
    "collapsed": false
   }
  },
  {
   "cell_type": "markdown",
   "source": [
    "### SQL SmartNoise\n",
    "\n",
    "You can retrieve data from the source with SmartNoise applying differential privacy."
   ],
   "metadata": {
    "collapsed": false
   }
  },
  {
   "cell_type": "code",
   "execution_count": null,
   "outputs": [],
   "source": [
    "# Metadata of table.\n",
    "from opendp.smartnoise.metadata import CollectionMetadata\n",
    "\n",
    "meta = CollectionMetadata.from_file('metadata/diabetes.yml')\n",
    "print (meta)"
   ],
   "metadata": {
    "collapsed": false
   }
  },
  {
   "cell_type": "code",
   "execution_count": 14,
   "outputs": [
    {
     "ename": "TypeError",
     "evalue": "Descriptors cannot not be created directly.\nIf this call came from a _pb2.py file, your generated code is out of date and must be regenerated with protoc >= 3.19.0.\nIf you cannot immediately regenerate your protos, some other possible workarounds are:\n 1. Downgrade the protobuf package to 3.20.x or lower.\n 2. Set PROTOCOL_BUFFERS_PYTHON_IMPLEMENTATION=python (but this will use pure-Python parsing and will be much slower).\n\nMore information: https://developers.google.com/protocol-buffers/docs/news/2022-05-06#python-updates",
     "output_type": "error",
     "traceback": [
      "\u001B[1;31m---------------------------------------------------------------------------\u001B[0m",
      "\u001B[1;31mTypeError\u001B[0m                                 Traceback (most recent call last)",
      "\u001B[1;32m~\\AppData\\Local\\Temp\\ipykernel_5252\\1112469979.py\u001B[0m in \u001B[0;36m<module>\u001B[1;34m\u001B[0m\n\u001B[1;32m----> 1\u001B[1;33m \u001B[1;32mfrom\u001B[0m \u001B[0mopendp\u001B[0m\u001B[1;33m.\u001B[0m\u001B[0msmartnoise\u001B[0m\u001B[1;33m.\u001B[0m\u001B[0msql\u001B[0m \u001B[1;32mimport\u001B[0m \u001B[0mPandasReader\u001B[0m\u001B[1;33m,\u001B[0m \u001B[0mPrivateReader\u001B[0m\u001B[1;33m\u001B[0m\u001B[1;33m\u001B[0m\u001B[0m\n\u001B[0m\u001B[0;32m      2\u001B[0m \u001B[1;33m\u001B[0m\u001B[0m\n\u001B[0;32m      3\u001B[0m \u001B[1;31m# Read raw data.\u001B[0m\u001B[1;33m\u001B[0m\u001B[1;33m\u001B[0m\u001B[1;33m\u001B[0m\u001B[0m\n\u001B[0;32m      4\u001B[0m \u001B[0mreader\u001B[0m \u001B[1;33m=\u001B[0m \u001B[0mPandasReader\u001B[0m\u001B[1;33m(\u001B[0m\u001B[0mdata\u001B[0m\u001B[1;33m,\u001B[0m \u001B[0mmeta\u001B[0m\u001B[1;33m)\u001B[0m\u001B[1;33m\u001B[0m\u001B[1;33m\u001B[0m\u001B[0m\n\u001B[0;32m      5\u001B[0m \u001B[1;31m# Original query.\u001B[0m\u001B[1;33m\u001B[0m\u001B[1;33m\u001B[0m\u001B[1;33m\u001B[0m\u001B[0m\n",
      "\u001B[1;32m~\\Anaconda3\\envs\\azure_env\\lib\\site-packages\\opendp\\smartnoise\\sql\\__init__.py\u001B[0m in \u001B[0;36m<module>\u001B[1;34m\u001B[0m\n\u001B[0;32m      4\u001B[0m \u001B[1;33m\u001B[0m\u001B[0m\n\u001B[0;32m      5\u001B[0m \u001B[1;32mfrom\u001B[0m \u001B[1;33m.\u001B[0m\u001B[0mprivate_rewriter\u001B[0m \u001B[1;32mimport\u001B[0m \u001B[0mRewriter\u001B[0m\u001B[1;33m\u001B[0m\u001B[1;33m\u001B[0m\u001B[0m\n\u001B[1;32m----> 6\u001B[1;33m \u001B[1;32mfrom\u001B[0m \u001B[1;33m.\u001B[0m\u001B[0mprivate_reader\u001B[0m \u001B[1;32mimport\u001B[0m \u001B[0mPrivateReader\u001B[0m\u001B[1;33m\u001B[0m\u001B[1;33m\u001B[0m\u001B[0m\n\u001B[0m\u001B[0;32m      7\u001B[0m \u001B[1;32mfrom\u001B[0m \u001B[1;33m.\u001B[0m\u001B[0mparse\u001B[0m \u001B[1;32mimport\u001B[0m \u001B[0mQueryParser\u001B[0m\u001B[1;33m\u001B[0m\u001B[1;33m\u001B[0m\u001B[0m\n\u001B[0;32m      8\u001B[0m \u001B[1;33m\u001B[0m\u001B[0m\n",
      "\u001B[1;32m~\\Anaconda3\\envs\\azure_env\\lib\\site-packages\\opendp\\smartnoise\\sql\\private_reader.py\u001B[0m in \u001B[0;36m<module>\u001B[1;34m\u001B[0m\n\u001B[0;32m      4\u001B[0m \u001B[1;32mimport\u001B[0m \u001B[0mmath\u001B[0m\u001B[1;33m\u001B[0m\u001B[1;33m\u001B[0m\u001B[0m\n\u001B[0;32m      5\u001B[0m \u001B[1;32mimport\u001B[0m \u001B[0mnumpy\u001B[0m \u001B[1;32mas\u001B[0m \u001B[0mnp\u001B[0m\u001B[1;33m\u001B[0m\u001B[1;33m\u001B[0m\u001B[0m\n\u001B[1;32m----> 6\u001B[1;33m \u001B[1;32mfrom\u001B[0m \u001B[0mopendp\u001B[0m\u001B[1;33m.\u001B[0m\u001B[0msmartnoise\u001B[0m\u001B[1;33m.\u001B[0m\u001B[0msql\u001B[0m\u001B[1;33m.\u001B[0m\u001B[0m_mechanisms\u001B[0m\u001B[1;33m.\u001B[0m\u001B[0maccuracy\u001B[0m \u001B[1;32mimport\u001B[0m \u001B[0mAccuracy\u001B[0m\u001B[1;33m\u001B[0m\u001B[1;33m\u001B[0m\u001B[0m\n\u001B[0m\u001B[0;32m      7\u001B[0m \u001B[1;32mfrom\u001B[0m \u001B[0mopendp\u001B[0m\u001B[1;33m.\u001B[0m\u001B[0msmartnoise\u001B[0m\u001B[1;33m.\u001B[0m\u001B[0msql\u001B[0m\u001B[1;33m.\u001B[0m\u001B[0modometer\u001B[0m \u001B[1;32mimport\u001B[0m \u001B[0mOdometer\u001B[0m\u001B[1;33m\u001B[0m\u001B[1;33m\u001B[0m\u001B[0m\n\u001B[0;32m      8\u001B[0m \u001B[1;32mfrom\u001B[0m \u001B[0mopendp\u001B[0m\u001B[1;33m.\u001B[0m\u001B[0msmartnoise\u001B[0m\u001B[1;33m.\u001B[0m\u001B[0msql\u001B[0m\u001B[1;33m.\u001B[0m\u001B[0mprivacy\u001B[0m \u001B[1;32mimport\u001B[0m \u001B[0mPrivacy\u001B[0m\u001B[1;33m\u001B[0m\u001B[1;33m\u001B[0m\u001B[0m\n",
      "\u001B[1;32m~\\Anaconda3\\envs\\azure_env\\lib\\site-packages\\opendp\\smartnoise\\sql\\_mechanisms\\__init__.py\u001B[0m in \u001B[0;36m<module>\u001B[1;34m\u001B[0m\n\u001B[1;32m----> 1\u001B[1;33m \u001B[1;32mfrom\u001B[0m \u001B[1;33m.\u001B[0m\u001B[0mgaussian\u001B[0m \u001B[1;32mimport\u001B[0m \u001B[0mGaussian\u001B[0m\u001B[1;33m\u001B[0m\u001B[1;33m\u001B[0m\u001B[0m\n\u001B[0m\u001B[0;32m      2\u001B[0m \u001B[1;33m\u001B[0m\u001B[0m\n\u001B[0;32m      3\u001B[0m \u001B[0m__all__\u001B[0m \u001B[1;33m=\u001B[0m \u001B[1;33m[\u001B[0m\u001B[1;34m\"Gaussian\"\u001B[0m\u001B[1;33m]\u001B[0m\u001B[1;33m\u001B[0m\u001B[1;33m\u001B[0m\u001B[0m\n",
      "\u001B[1;32m~\\Anaconda3\\envs\\azure_env\\lib\\site-packages\\opendp\\smartnoise\\sql\\_mechanisms\\gaussian.py\u001B[0m in \u001B[0;36m<module>\u001B[1;34m\u001B[0m\n\u001B[0;32m      5\u001B[0m \u001B[1;32mfrom\u001B[0m \u001B[0mscipy\u001B[0m\u001B[1;33m.\u001B[0m\u001B[0mstats\u001B[0m \u001B[1;32mimport\u001B[0m \u001B[0mnorm\u001B[0m\u001B[1;33m\u001B[0m\u001B[1;33m\u001B[0m\u001B[0m\n\u001B[0;32m      6\u001B[0m \u001B[1;32mfrom\u001B[0m \u001B[0mopendp\u001B[0m\u001B[1;33m.\u001B[0m\u001B[0msmartnoise\u001B[0m\u001B[1;33m.\u001B[0m\u001B[0mreport\u001B[0m \u001B[1;32mimport\u001B[0m \u001B[0mResult\u001B[0m\u001B[1;33m,\u001B[0m \u001B[0mInterval\u001B[0m\u001B[1;33m,\u001B[0m \u001B[0mIntervals\u001B[0m\u001B[1;33m\u001B[0m\u001B[1;33m\u001B[0m\u001B[0m\n\u001B[1;32m----> 7\u001B[1;33m \u001B[1;32mfrom\u001B[0m \u001B[0mopendp\u001B[0m\u001B[1;33m.\u001B[0m\u001B[0msmartnoise\u001B[0m\u001B[1;33m.\u001B[0m\u001B[0mcore\u001B[0m \u001B[1;32mimport\u001B[0m \u001B[0mcore_library\u001B[0m\u001B[1;33m\u001B[0m\u001B[1;33m\u001B[0m\u001B[0m\n\u001B[0m\u001B[0;32m      8\u001B[0m \u001B[1;33m\u001B[0m\u001B[0m\n\u001B[0;32m      9\u001B[0m \u001B[1;33m\u001B[0m\u001B[0m\n",
      "\u001B[1;32m~\\Anaconda3\\envs\\azure_env\\lib\\site-packages\\opendp\\smartnoise\\core\\__init__.py\u001B[0m in \u001B[0;36m<module>\u001B[1;34m\u001B[0m\n\u001B[1;32m----> 1\u001B[1;33m \u001B[1;32mfrom\u001B[0m \u001B[1;33m.\u001B[0m\u001B[0mbase\u001B[0m \u001B[1;32mimport\u001B[0m \u001B[1;33m*\u001B[0m\u001B[1;33m\u001B[0m\u001B[1;33m\u001B[0m\u001B[0m\n\u001B[0m\u001B[0;32m      2\u001B[0m \u001B[1;33m\u001B[0m\u001B[0m\n\u001B[0;32m      3\u001B[0m \u001B[1;31m# The full namespace is used because the file location comes from an external script\u001B[0m\u001B[1;33m\u001B[0m\u001B[1;33m\u001B[0m\u001B[1;33m\u001B[0m\u001B[0m\n\u001B[0;32m      4\u001B[0m \u001B[1;31m# components.py is generated from scripts/code_generation.py\u001B[0m\u001B[1;33m\u001B[0m\u001B[1;33m\u001B[0m\u001B[1;33m\u001B[0m\u001B[0m\n\u001B[0;32m      5\u001B[0m \u001B[1;31m# in opendifferentialprivacy/smartnoise-core-python\u001B[0m\u001B[1;33m\u001B[0m\u001B[1;33m\u001B[0m\u001B[1;33m\u001B[0m\u001B[0m\n",
      "\u001B[1;32m~\\Anaconda3\\envs\\azure_env\\lib\\site-packages\\opendp\\smartnoise\\core\\base.py\u001B[0m in \u001B[0;36m<module>\u001B[1;34m\u001B[0m\n\u001B[0;32m      2\u001B[0m \u001B[1;32mimport\u001B[0m \u001B[0mwarnings\u001B[0m\u001B[1;33m\u001B[0m\u001B[1;33m\u001B[0m\u001B[0m\n\u001B[0;32m      3\u001B[0m \u001B[1;33m\u001B[0m\u001B[0m\n\u001B[1;32m----> 4\u001B[1;33m \u001B[1;32mfrom\u001B[0m \u001B[1;33m.\u001B[0m\u001B[0mapi\u001B[0m \u001B[1;32mimport\u001B[0m \u001B[0mLibraryWrapper\u001B[0m\u001B[1;33m,\u001B[0m \u001B[0mformat_error\u001B[0m\u001B[1;33m\u001B[0m\u001B[1;33m\u001B[0m\u001B[0m\n\u001B[0m\u001B[0;32m      5\u001B[0m \u001B[1;32mfrom\u001B[0m \u001B[1;33m.\u001B[0m\u001B[0mvalue\u001B[0m \u001B[1;32mimport\u001B[0m \u001B[1;33m*\u001B[0m\u001B[1;33m\u001B[0m\u001B[1;33m\u001B[0m\u001B[0m\n\u001B[0;32m      6\u001B[0m \u001B[1;33m\u001B[0m\u001B[0m\n",
      "\u001B[1;32m~\\Anaconda3\\envs\\azure_env\\lib\\site-packages\\opendp\\smartnoise\\core\\api.py\u001B[0m in \u001B[0;36m<module>\u001B[1;34m\u001B[0m\n\u001B[0;32m      6\u001B[0m \u001B[1;32mimport\u001B[0m \u001B[0mplatform\u001B[0m\u001B[1;33m\u001B[0m\u001B[1;33m\u001B[0m\u001B[0m\n\u001B[0;32m      7\u001B[0m \u001B[1;33m\u001B[0m\u001B[0m\n\u001B[1;32m----> 8\u001B[1;33m \u001B[1;32mfrom\u001B[0m \u001B[1;33m.\u001B[0m \u001B[1;32mimport\u001B[0m \u001B[0mapi_pb2\u001B[0m\u001B[1;33m\u001B[0m\u001B[1;33m\u001B[0m\u001B[0m\n\u001B[0m\u001B[0;32m      9\u001B[0m \u001B[1;33m\u001B[0m\u001B[0m\n\u001B[0;32m     10\u001B[0m \u001B[1;33m\u001B[0m\u001B[0m\n",
      "\u001B[1;32m~\\Anaconda3\\envs\\azure_env\\lib\\site-packages\\opendp\\smartnoise\\core\\api_pb2.py\u001B[0m in \u001B[0;36m<module>\u001B[1;34m\u001B[0m\n\u001B[0;32m     14\u001B[0m \u001B[1;33m\u001B[0m\u001B[0m\n\u001B[0;32m     15\u001B[0m \u001B[1;33m\u001B[0m\u001B[0m\n\u001B[1;32m---> 16\u001B[1;33m \u001B[1;32mfrom\u001B[0m \u001B[1;33m.\u001B[0m \u001B[1;32mimport\u001B[0m \u001B[0mbase_pb2\u001B[0m \u001B[1;32mas\u001B[0m \u001B[0mbase__pb2\u001B[0m\u001B[1;33m\u001B[0m\u001B[1;33m\u001B[0m\u001B[0m\n\u001B[0m\u001B[0;32m     17\u001B[0m \u001B[1;32mfrom\u001B[0m \u001B[1;33m.\u001B[0m \u001B[1;32mimport\u001B[0m \u001B[0mcomponents_pb2\u001B[0m \u001B[1;32mas\u001B[0m \u001B[0mcomponents__pb2\u001B[0m\u001B[1;33m\u001B[0m\u001B[1;33m\u001B[0m\u001B[0m\n\u001B[0;32m     18\u001B[0m \u001B[1;32mfrom\u001B[0m \u001B[1;33m.\u001B[0m \u001B[1;32mimport\u001B[0m \u001B[0mvalue_pb2\u001B[0m \u001B[1;32mas\u001B[0m \u001B[0mvalue__pb2\u001B[0m\u001B[1;33m\u001B[0m\u001B[1;33m\u001B[0m\u001B[0m\n",
      "\u001B[1;32m~\\Anaconda3\\envs\\azure_env\\lib\\site-packages\\opendp\\smartnoise\\core\\base_pb2.py\u001B[0m in \u001B[0;36m<module>\u001B[1;34m\u001B[0m\n\u001B[0;32m     15\u001B[0m \u001B[1;33m\u001B[0m\u001B[0m\n\u001B[0;32m     16\u001B[0m \u001B[1;33m\u001B[0m\u001B[0m\n\u001B[1;32m---> 17\u001B[1;33m \u001B[1;32mfrom\u001B[0m \u001B[1;33m.\u001B[0m \u001B[1;32mimport\u001B[0m \u001B[0mvalue_pb2\u001B[0m \u001B[1;32mas\u001B[0m \u001B[0mvalue__pb2\u001B[0m\u001B[1;33m\u001B[0m\u001B[1;33m\u001B[0m\u001B[0m\n\u001B[0m\u001B[0;32m     18\u001B[0m \u001B[1;32mfrom\u001B[0m \u001B[1;33m.\u001B[0m \u001B[1;32mimport\u001B[0m \u001B[0mcomponents_pb2\u001B[0m \u001B[1;32mas\u001B[0m \u001B[0mcomponents__pb2\u001B[0m\u001B[1;33m\u001B[0m\u001B[1;33m\u001B[0m\u001B[0m\n\u001B[0;32m     19\u001B[0m \u001B[1;33m\u001B[0m\u001B[0m\n",
      "\u001B[1;32m~\\Anaconda3\\envs\\azure_env\\lib\\site-packages\\opendp\\smartnoise\\core\\value_pb2.py\u001B[0m in \u001B[0;36m<module>\u001B[1;34m\u001B[0m\n\u001B[0;32m     34\u001B[0m       \u001B[0mname\u001B[0m\u001B[1;33m=\u001B[0m\u001B[1;34m'UNKNOWN'\u001B[0m\u001B[1;33m,\u001B[0m \u001B[0mindex\u001B[0m\u001B[1;33m=\u001B[0m\u001B[1;36m0\u001B[0m\u001B[1;33m,\u001B[0m \u001B[0mnumber\u001B[0m\u001B[1;33m=\u001B[0m\u001B[1;36m0\u001B[0m\u001B[1;33m,\u001B[0m\u001B[1;33m\u001B[0m\u001B[1;33m\u001B[0m\u001B[0m\n\u001B[0;32m     35\u001B[0m       \u001B[0mserialized_options\u001B[0m\u001B[1;33m=\u001B[0m\u001B[1;32mNone\u001B[0m\u001B[1;33m,\u001B[0m\u001B[1;33m\u001B[0m\u001B[1;33m\u001B[0m\u001B[0m\n\u001B[1;32m---> 36\u001B[1;33m       type=None),\n\u001B[0m\u001B[0;32m     37\u001B[0m     _descriptor.EnumValueDescriptor(\n\u001B[0;32m     38\u001B[0m       \u001B[0mname\u001B[0m\u001B[1;33m=\u001B[0m\u001B[1;34m'BOOL'\u001B[0m\u001B[1;33m,\u001B[0m \u001B[0mindex\u001B[0m\u001B[1;33m=\u001B[0m\u001B[1;36m1\u001B[0m\u001B[1;33m,\u001B[0m \u001B[0mnumber\u001B[0m\u001B[1;33m=\u001B[0m\u001B[1;36m1\u001B[0m\u001B[1;33m,\u001B[0m\u001B[1;33m\u001B[0m\u001B[1;33m\u001B[0m\u001B[0m\n",
      "\u001B[1;32m~\\Anaconda3\\envs\\azure_env\\lib\\site-packages\\google\\protobuf\\descriptor.py\u001B[0m in \u001B[0;36m__new__\u001B[1;34m(cls, name, index, number, type, options, serialized_options, create_key)\u001B[0m\n\u001B[0;32m    753\u001B[0m                 \u001B[0mtype\u001B[0m\u001B[1;33m=\u001B[0m\u001B[1;32mNone\u001B[0m\u001B[1;33m,\u001B[0m  \u001B[1;31m# pylint: disable=redefined-builtin\u001B[0m\u001B[1;33m\u001B[0m\u001B[1;33m\u001B[0m\u001B[0m\n\u001B[0;32m    754\u001B[0m                 options=None, serialized_options=None, create_key=None):\n\u001B[1;32m--> 755\u001B[1;33m       \u001B[0m_message\u001B[0m\u001B[1;33m.\u001B[0m\u001B[0mMessage\u001B[0m\u001B[1;33m.\u001B[0m\u001B[0m_CheckCalledFromGeneratedFile\u001B[0m\u001B[1;33m(\u001B[0m\u001B[1;33m)\u001B[0m\u001B[1;33m\u001B[0m\u001B[1;33m\u001B[0m\u001B[0m\n\u001B[0m\u001B[0;32m    756\u001B[0m       \u001B[1;31m# There is no way we can build a complete EnumValueDescriptor with the\u001B[0m\u001B[1;33m\u001B[0m\u001B[1;33m\u001B[0m\u001B[1;33m\u001B[0m\u001B[0m\n\u001B[0;32m    757\u001B[0m       \u001B[1;31m# given parameters (the name of the Enum is not known, for example).\u001B[0m\u001B[1;33m\u001B[0m\u001B[1;33m\u001B[0m\u001B[1;33m\u001B[0m\u001B[0m\n",
      "\u001B[1;31mTypeError\u001B[0m: Descriptors cannot not be created directly.\nIf this call came from a _pb2.py file, your generated code is out of date and must be regenerated with protoc >= 3.19.0.\nIf you cannot immediately regenerate your protos, some other possible workarounds are:\n 1. Downgrade the protobuf package to 3.20.x or lower.\n 2. Set PROTOCOL_BUFFERS_PYTHON_IMPLEMENTATION=python (but this will use pure-Python parsing and will be much slower).\n\nMore information: https://developers.google.com/protocol-buffers/docs/news/2022-05-06#python-updates"
     ]
    }
   ],
   "source": [
    "from opendp.smartnoise.sql import PandasReader, PrivateReader\n",
    "\n",
    "# Read raw data.\n",
    "reader = PandasReader(data, meta)\n",
    "# Original query.\n",
    "query = 'SELECT Diabetic, AVG(Age) AS AvgAge FROM diabetes.diabetes GROUP BY Diabetic'\n",
    "\n",
    "result = reader.execute(query)\n",
    "print(result)"
   ],
   "metadata": {
    "collapsed": false
   }
  },
  {
   "cell_type": "code",
   "execution_count": 13,
   "outputs": [
    {
     "ename": "NameError",
     "evalue": "name 'private_reader' is not defined",
     "output_type": "error",
     "traceback": [
      "\u001B[1;31m---------------------------------------------------------------------------\u001B[0m",
      "\u001B[1;31mNameError\u001B[0m                                 Traceback (most recent call last)",
      "\u001B[1;32m~\\AppData\\Local\\Temp\\ipykernel_5252\\2268270766.py\u001B[0m in \u001B[0;36m<module>\u001B[1;34m\u001B[0m\n\u001B[0;32m      1\u001B[0m \u001B[0mquery\u001B[0m \u001B[1;33m=\u001B[0m \u001B[1;34m'SELECT Diabetic, AVG(Age) AS AvgAge FROM diabetes.diabetes GROUP BY Diabetic'\u001B[0m\u001B[1;33m\u001B[0m\u001B[1;33m\u001B[0m\u001B[0m\n\u001B[0;32m      2\u001B[0m \u001B[1;33m\u001B[0m\u001B[0m\n\u001B[1;32m----> 3\u001B[1;33m \u001B[0mresult_dp\u001B[0m \u001B[1;33m=\u001B[0m \u001B[0mprivate_reader\u001B[0m\u001B[1;33m.\u001B[0m\u001B[0mexecute\u001B[0m\u001B[1;33m(\u001B[0m\u001B[0mquery\u001B[0m\u001B[1;33m)\u001B[0m\u001B[1;33m\u001B[0m\u001B[1;33m\u001B[0m\u001B[0m\n\u001B[0m\u001B[0;32m      4\u001B[0m \u001B[0mprint\u001B[0m\u001B[1;33m(\u001B[0m\u001B[0mresult_dp\u001B[0m\u001B[1;33m)\u001B[0m\u001B[1;33m\u001B[0m\u001B[1;33m\u001B[0m\u001B[0m\n",
      "\u001B[1;31mNameError\u001B[0m: name 'private_reader' is not defined"
     ]
    }
   ],
   "source": [
    "# Apply differential privacy to reader.\n",
    "private_reader = PrivateReader(reader=reader, metadata=meta, epsilon_per_column=0.7)\n",
    "print('Readers ready.')\n",
    "\n",
    "result_dp = private_reader.execute(query)\n",
    "print(result_dp)"
   ],
   "metadata": {
    "collapsed": false
   }
  },
  {
   "cell_type": "code",
   "execution_count": null,
   "outputs": [],
   "source": [
    "# Let's play a little bit woth epsilon.\n",
    "\n",
    "# More noise -> more privacy -> less accuracy\n",
    "low_privacy_reader = PrivateReader(reader, meta, 5.0)  # large epsilon, less privacy\n",
    "result = low_privacy_reader.execute(query)\n",
    "print(result)\n",
    "\n",
    "# Less noise -> less privacy -> more accuracy\n",
    "high_privacy_reader = PrivateReader(reader, meta, 0.1)  # smaller epsilon, more privacy\n",
    "result = high_privacy_reader.execute(query)\n",
    "print(result)"
   ],
   "metadata": {
    "collapsed": false
   }
  }
 ],
 "metadata": {
  "kernelspec": {
   "display_name": "Python 3",
   "language": "python",
   "name": "python3"
  },
  "language_info": {
   "codemirror_mode": {
    "name": "ipython",
    "version": 2
   },
   "file_extension": ".py",
   "mimetype": "text/x-python",
   "name": "python",
   "nbconvert_exporter": "python",
   "pygments_lexer": "ipython2",
   "version": "2.7.6"
  }
 },
 "nbformat": 4,
 "nbformat_minor": 0
}
