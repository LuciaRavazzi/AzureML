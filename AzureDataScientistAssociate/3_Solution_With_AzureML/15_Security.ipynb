{
 "cells": [
  {
   "cell_type": "markdown",
   "source": [
    "### Introduction\n",
    "\n",
    "Many attacks on machine learning systems involve accessing models through insecure networks to steal or manipulate data to affect model performance and access sensitive data. By building better, more secure training data stores, locking down machine learning platforms, and controlling access to inputs and outputs, we can ensure data remains protected.\n",
    "\n",
    "The first thing that you can do is defining the _roles_ which can be:\n",
    "- Owner: can do everything and change the roles.\n",
    "- Contributors: can do everything.\n",
    "- Readers: can only read assets.\n",
    "\n",
    "In addition, you can define custom permissions. Within Azure Portal, you need to create a json with permissions which will be uploaded. Then, Access control shows the type of permissions included the one that you just created.\n",
    "\n",
    "Another security measure regards authentications:\n",
    "- Interactive\n",
    "- Service principal\n",
    "- Azure CLI session\n",
    "- Managed identity\n",
    "\n",
    "As regards passwords or other secrets, it isn't recommended to add them to the source code becasue your collegues are goint to see it eventually and it can be retained into the git history. So, it's better to store them into your environment. _Azure Key Vault_  can hold these secrets that would be encrypted.\n",
    "\n",
    "Moreover, also a network can be created for Azure resources of the workspace.\n"
   ],
   "metadata": {
    "collapsed": false
   }
  }
 ],
 "metadata": {
  "kernelspec": {
   "display_name": "Python 3",
   "language": "python",
   "name": "python3"
  },
  "language_info": {
   "codemirror_mode": {
    "name": "ipython",
    "version": 2
   },
   "file_extension": ".py",
   "mimetype": "text/x-python",
   "name": "python",
   "nbconvert_exporter": "python",
   "pygments_lexer": "ipython2",
   "version": "2.7.6"
  }
 },
 "nbformat": 4,
 "nbformat_minor": 0
}
