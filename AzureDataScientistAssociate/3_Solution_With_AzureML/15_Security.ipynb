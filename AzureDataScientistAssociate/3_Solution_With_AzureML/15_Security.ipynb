{
 "cells": [
  {
   "cell_type": "markdown",
   "source": [
    "### Introduction\n",
    "\n",
    "Many attacks on machine learning systems involve accessing models through insecure networks to steal or manipulate data to affect model performance and access sensitive data. By building better, more secure training data stores, locking down machine learning platforms, and controlling access to inputs and outputs, we can ensure data remains protected.\n",
    "\n",
    "The first thing that you can do is defining the role which can be:\n",
    "- Owner: can do everything and change the roles.\n",
    "- Contributors: can do everything.\n",
    "- Readers: can only read assets."
   ],
   "metadata": {
    "collapsed": false
   }
  }
 ],
 "metadata": {
  "kernelspec": {
   "display_name": "Python 3",
   "language": "python",
   "name": "python3"
  },
  "language_info": {
   "codemirror_mode": {
    "name": "ipython",
    "version": 2
   },
   "file_extension": ".py",
   "mimetype": "text/x-python",
   "name": "python",
   "nbconvert_exporter": "python",
   "pygments_lexer": "ipython2",
   "version": "2.7.6"
  }
 },
 "nbformat": 4,
 "nbformat_minor": 0
}
